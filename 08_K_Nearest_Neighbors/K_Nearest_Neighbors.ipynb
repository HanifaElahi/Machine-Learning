{
 "cells": [
  {
   "cell_type": "markdown",
   "metadata": {
    "id": "zFcQWfn3ot8Z"
   },
   "source": [
    "## **K - Nearest Neighbors**\n",
    "\n",
    "K Nearest Neighbour is a simple algorithm that stores all the available cases and classifies the new data or case based on a similarity measure. It is mostly used to classifies a data point based on how its neighbours are classified. \n",
    "\n",
    "<img src = \"https://miro.medium.com/max/718/1*X1KBJctko0RH6BWBsu-XjA.png\">\n",
    "\n",
    "<img src = \"https://res.cloudinary.com/dyd911kmh/image/upload/f_auto,q_auto:best/v1531424125/KNN_final1_ibdm8a.png\" >"
   ]
  },
  {
   "cell_type": "markdown",
   "metadata": {
    "id": "4qxiH7SDot_n"
   },
   "source": [
    "## **Geting Started with KNN Classifier**"
   ]
  },
  {
   "cell_type": "code",
   "execution_count": 18,
   "metadata": {
    "id": "f301WyqCouYO"
   },
   "outputs": [],
   "source": [
    "#Importing Libraries\n",
    "\n",
    "import pandas as pd\n",
    "import numpy as np\n",
    "import matplotlib.pyplot as plt\n",
    "from sklearn.neighbors import KNeighborsClassifier\n",
    "from sklearn.model_selection import train_test_split\n",
    "from sklearn.model_selection import cross_val_score\n",
    "from sklearn.metrics import confusion_matrix\n",
    "from sklearn.metrics import accuracy_score\n",
    "from sklearn import preprocessing"
   ]
  },
  {
   "cell_type": "markdown",
   "metadata": {
    "id": "Env2oQh2Q5UA"
   },
   "source": [
    "## **DataFraming**\n",
    "\n",
    "Read .csv data into a Dataframe"
   ]
  },
  {
   "cell_type": "code",
   "execution_count": 19,
   "metadata": {
    "colab": {
     "base_uri": "https://localhost:8080/",
     "height": 639
    },
    "id": "p3xlTtEPQ96i",
    "outputId": "c8641a5c-b64a-4435-a965-8af64f7c74c1"
   },
   "outputs": [
    {
     "data": {
      "text/html": [
       "<div>\n",
       "<style scoped>\n",
       "    .dataframe tbody tr th:only-of-type {\n",
       "        vertical-align: middle;\n",
       "    }\n",
       "\n",
       "    .dataframe tbody tr th {\n",
       "        vertical-align: top;\n",
       "    }\n",
       "\n",
       "    .dataframe thead th {\n",
       "        text-align: right;\n",
       "    }\n",
       "</style>\n",
       "<table border=\"1\" class=\"dataframe\">\n",
       "  <thead>\n",
       "    <tr style=\"text-align: right;\">\n",
       "      <th></th>\n",
       "      <th>clientid</th>\n",
       "      <th>income</th>\n",
       "      <th>age</th>\n",
       "      <th>loan</th>\n",
       "      <th>LTI</th>\n",
       "      <th>default</th>\n",
       "    </tr>\n",
       "  </thead>\n",
       "  <tbody>\n",
       "    <tr>\n",
       "      <th>0</th>\n",
       "      <td>1</td>\n",
       "      <td>66155.925095</td>\n",
       "      <td>59.017015</td>\n",
       "      <td>8106.532131</td>\n",
       "      <td>0.122537</td>\n",
       "      <td>0</td>\n",
       "    </tr>\n",
       "    <tr>\n",
       "      <th>1</th>\n",
       "      <td>2</td>\n",
       "      <td>34415.153966</td>\n",
       "      <td>48.117153</td>\n",
       "      <td>6564.745018</td>\n",
       "      <td>0.190752</td>\n",
       "      <td>0</td>\n",
       "    </tr>\n",
       "    <tr>\n",
       "      <th>2</th>\n",
       "      <td>3</td>\n",
       "      <td>57317.170063</td>\n",
       "      <td>63.108049</td>\n",
       "      <td>8020.953296</td>\n",
       "      <td>0.139940</td>\n",
       "      <td>0</td>\n",
       "    </tr>\n",
       "    <tr>\n",
       "      <th>3</th>\n",
       "      <td>4</td>\n",
       "      <td>42709.534201</td>\n",
       "      <td>45.751972</td>\n",
       "      <td>6103.642260</td>\n",
       "      <td>0.142911</td>\n",
       "      <td>0</td>\n",
       "    </tr>\n",
       "    <tr>\n",
       "      <th>4</th>\n",
       "      <td>5</td>\n",
       "      <td>66952.688845</td>\n",
       "      <td>18.584336</td>\n",
       "      <td>8770.099235</td>\n",
       "      <td>0.130989</td>\n",
       "      <td>1</td>\n",
       "    </tr>\n",
       "    <tr>\n",
       "      <th>...</th>\n",
       "      <td>...</td>\n",
       "      <td>...</td>\n",
       "      <td>...</td>\n",
       "      <td>...</td>\n",
       "      <td>...</td>\n",
       "      <td>...</td>\n",
       "    </tr>\n",
       "    <tr>\n",
       "      <th>1995</th>\n",
       "      <td>1996</td>\n",
       "      <td>59221.044874</td>\n",
       "      <td>48.518179</td>\n",
       "      <td>1926.729397</td>\n",
       "      <td>0.032535</td>\n",
       "      <td>0</td>\n",
       "    </tr>\n",
       "    <tr>\n",
       "      <th>1996</th>\n",
       "      <td>1997</td>\n",
       "      <td>69516.127573</td>\n",
       "      <td>23.162104</td>\n",
       "      <td>3503.176156</td>\n",
       "      <td>0.050394</td>\n",
       "      <td>0</td>\n",
       "    </tr>\n",
       "    <tr>\n",
       "      <th>1997</th>\n",
       "      <td>1998</td>\n",
       "      <td>44311.449262</td>\n",
       "      <td>28.017167</td>\n",
       "      <td>5522.786693</td>\n",
       "      <td>0.124636</td>\n",
       "      <td>1</td>\n",
       "    </tr>\n",
       "    <tr>\n",
       "      <th>1998</th>\n",
       "      <td>1999</td>\n",
       "      <td>43756.056605</td>\n",
       "      <td>63.971796</td>\n",
       "      <td>1622.722598</td>\n",
       "      <td>0.037086</td>\n",
       "      <td>0</td>\n",
       "    </tr>\n",
       "    <tr>\n",
       "      <th>1999</th>\n",
       "      <td>2000</td>\n",
       "      <td>69436.579552</td>\n",
       "      <td>56.152617</td>\n",
       "      <td>7378.833599</td>\n",
       "      <td>0.106267</td>\n",
       "      <td>0</td>\n",
       "    </tr>\n",
       "  </tbody>\n",
       "</table>\n",
       "<p>2000 rows × 6 columns</p>\n",
       "</div>"
      ],
      "text/plain": [
       "      clientid        income        age         loan       LTI  default\n",
       "0            1  66155.925095  59.017015  8106.532131  0.122537        0\n",
       "1            2  34415.153966  48.117153  6564.745018  0.190752        0\n",
       "2            3  57317.170063  63.108049  8020.953296  0.139940        0\n",
       "3            4  42709.534201  45.751972  6103.642260  0.142911        0\n",
       "4            5  66952.688845  18.584336  8770.099235  0.130989        1\n",
       "...        ...           ...        ...          ...       ...      ...\n",
       "1995      1996  59221.044874  48.518179  1926.729397  0.032535        0\n",
       "1996      1997  69516.127573  23.162104  3503.176156  0.050394        0\n",
       "1997      1998  44311.449262  28.017167  5522.786693  0.124636        1\n",
       "1998      1999  43756.056605  63.971796  1622.722598  0.037086        0\n",
       "1999      2000  69436.579552  56.152617  7378.833599  0.106267        0\n",
       "\n",
       "[2000 rows x 6 columns]"
      ]
     },
     "execution_count": 19,
     "metadata": {},
     "output_type": "execute_result"
    }
   ],
   "source": [
    "data = pd.read_csv(\"credit_data.csv\")\n",
    "data"
   ]
  },
  {
   "cell_type": "code",
   "execution_count": 20,
   "metadata": {
    "colab": {
     "base_uri": "https://localhost:8080/",
     "height": 34
    },
    "id": "pniuvjKqJ02v",
    "outputId": "3546e2d2-814a-4d5b-f6f3-2a2a7bb805ba"
   },
   "outputs": [
    {
     "data": {
      "text/plain": [
       "283"
      ]
     },
     "execution_count": 20,
     "metadata": {},
     "output_type": "execute_result"
    }
   ],
   "source": [
    "# A very simple & Logical technique to find total number of defaulters\n",
    "data.default.sum()"
   ]
  },
  {
   "cell_type": "code",
   "execution_count": 21,
   "metadata": {
    "colab": {
     "base_uri": "https://localhost:8080/",
     "height": 140
    },
    "id": "Z8c2mqV8KMjk",
    "outputId": "e391cf45-d59f-4293-9bae-9e8d31ad1333"
   },
   "outputs": [
    {
     "name": "stdout",
     "output_type": "stream",
     "text": [
      "clientid    0\n",
      "income      0\n",
      "age         0\n",
      "loan        0\n",
      "LTI         0\n",
      "default     0\n",
      "dtype: int64\n"
     ]
    }
   ],
   "source": [
    "\n",
    "#Finding  number of Nan or missing values in all columns\n",
    "print(data.isna().sum(axis = 0))\n",
    "\n",
    "# data.isna().sum(axis = 0)   # Nan values in every column\n",
    "# data.isna().sum(axis = 1)   # Nan values in every row."
   ]
  },
  {
   "cell_type": "markdown",
   "metadata": {
    "id": "pmIpl-ayRCDV"
   },
   "source": [
    "## **Features Extraction**\n",
    "\n",
    "Extracting features and splitting data into test and train."
   ]
  },
  {
   "cell_type": "code",
   "execution_count": 22,
   "metadata": {
    "id": "9Cg1ONaQRBwP"
   },
   "outputs": [],
   "source": [
    "features = data[[\"income\",\"age\",\"loan\"]]\n",
    "target = data.default"
   ]
  },
  {
   "cell_type": "code",
   "execution_count": 23,
   "metadata": {
    "colab": {
     "base_uri": "https://localhost:8080/",
     "height": 195
    },
    "id": "uzdKKBZNLQaX",
    "outputId": "f16796f8-9f51-4f32-fecf-7812bede37c7"
   },
   "outputs": [
    {
     "data": {
      "text/html": [
       "<div>\n",
       "<style scoped>\n",
       "    .dataframe tbody tr th:only-of-type {\n",
       "        vertical-align: middle;\n",
       "    }\n",
       "\n",
       "    .dataframe tbody tr th {\n",
       "        vertical-align: top;\n",
       "    }\n",
       "\n",
       "    .dataframe thead th {\n",
       "        text-align: right;\n",
       "    }\n",
       "</style>\n",
       "<table border=\"1\" class=\"dataframe\">\n",
       "  <thead>\n",
       "    <tr style=\"text-align: right;\">\n",
       "      <th></th>\n",
       "      <th>income</th>\n",
       "      <th>age</th>\n",
       "      <th>loan</th>\n",
       "    </tr>\n",
       "  </thead>\n",
       "  <tbody>\n",
       "    <tr>\n",
       "      <th>0</th>\n",
       "      <td>66155.925095</td>\n",
       "      <td>59.017015</td>\n",
       "      <td>8106.532131</td>\n",
       "    </tr>\n",
       "    <tr>\n",
       "      <th>1</th>\n",
       "      <td>34415.153966</td>\n",
       "      <td>48.117153</td>\n",
       "      <td>6564.745018</td>\n",
       "    </tr>\n",
       "    <tr>\n",
       "      <th>2</th>\n",
       "      <td>57317.170063</td>\n",
       "      <td>63.108049</td>\n",
       "      <td>8020.953296</td>\n",
       "    </tr>\n",
       "    <tr>\n",
       "      <th>3</th>\n",
       "      <td>42709.534201</td>\n",
       "      <td>45.751972</td>\n",
       "      <td>6103.642260</td>\n",
       "    </tr>\n",
       "    <tr>\n",
       "      <th>4</th>\n",
       "      <td>66952.688845</td>\n",
       "      <td>18.584336</td>\n",
       "      <td>8770.099235</td>\n",
       "    </tr>\n",
       "  </tbody>\n",
       "</table>\n",
       "</div>"
      ],
      "text/plain": [
       "         income        age         loan\n",
       "0  66155.925095  59.017015  8106.532131\n",
       "1  34415.153966  48.117153  6564.745018\n",
       "2  57317.170063  63.108049  8020.953296\n",
       "3  42709.534201  45.751972  6103.642260\n",
       "4  66952.688845  18.584336  8770.099235"
      ]
     },
     "execution_count": 23,
     "metadata": {},
     "output_type": "execute_result"
    }
   ],
   "source": [
    "features.head()"
   ]
  },
  {
   "cell_type": "code",
   "execution_count": 24,
   "metadata": {
    "colab": {
     "base_uri": "https://localhost:8080/",
     "height": 195
    },
    "id": "ycAqYCUZK48O",
    "outputId": "27fcdcbd-5b69-4264-b9ad-59c43331d66c"
   },
   "outputs": [
    {
     "data": {
      "text/plain": [
       "0    0\n",
       "1    0\n",
       "2    0\n",
       "3    0\n",
       "4    1\n",
       "Name: default, dtype: int64"
      ]
     },
     "execution_count": 24,
     "metadata": {},
     "output_type": "execute_result"
    }
   ],
   "source": [
    "target.head()"
   ]
  },
  {
   "cell_type": "code",
   "execution_count": 25,
   "metadata": {
    "colab": {
     "base_uri": "https://localhost:8080/",
     "height": 265
    },
    "id": "YzysWH1cmq_w",
    "outputId": "b7aa0da4-2897-4441-c9c9-e3314d2e2d15"
   },
   "outputs": [
    {
     "data": {
      "image/png": "[encoded data removed]",
      "text/plain": [
       "<Figure size 432x288 with 1 Axes>"
      ]
     },
     "metadata": {
      "needs_background": "light"
     },
     "output_type": "display_data"
    }
   ],
   "source": [
    "plt.scatter(data.income, data.default,color='red')\n",
    "plt.scatter(data.age, data.default,color='deeppink')\n",
    "plt.scatter(data.loan, data.default,color='gold')\n",
    "plt.show()"
   ]
  },
  {
   "cell_type": "code",
   "execution_count": 26,
   "metadata": {
    "colab": {
     "base_uri": "https://localhost:8080/",
     "height": 195
    },
    "id": "htu4oQ0s2TZT",
    "outputId": "ccbe235b-b9ae-4f7a-bf4c-40ee5600b110"
   },
   "outputs": [
    {
     "data": {
      "text/html": [
       "<div>\n",
       "<style scoped>\n",
       "    .dataframe tbody tr th:only-of-type {\n",
       "        vertical-align: middle;\n",
       "    }\n",
       "\n",
       "    .dataframe tbody tr th {\n",
       "        vertical-align: top;\n",
       "    }\n",
       "\n",
       "    .dataframe thead th {\n",
       "        text-align: right;\n",
       "    }\n",
       "</style>\n",
       "<table border=\"1\" class=\"dataframe\">\n",
       "  <thead>\n",
       "    <tr style=\"text-align: right;\">\n",
       "      <th></th>\n",
       "      <th>clientid</th>\n",
       "      <th>income</th>\n",
       "      <th>age</th>\n",
       "      <th>loan</th>\n",
       "      <th>LTI</th>\n",
       "      <th>default</th>\n",
       "    </tr>\n",
       "  </thead>\n",
       "  <tbody>\n",
       "    <tr>\n",
       "      <th>0</th>\n",
       "      <td>1</td>\n",
       "      <td>66155.925095</td>\n",
       "      <td>59.017015</td>\n",
       "      <td>8106.532131</td>\n",
       "      <td>0.122537</td>\n",
       "      <td>0</td>\n",
       "    </tr>\n",
       "    <tr>\n",
       "      <th>1</th>\n",
       "      <td>2</td>\n",
       "      <td>34415.153966</td>\n",
       "      <td>48.117153</td>\n",
       "      <td>6564.745018</td>\n",
       "      <td>0.190752</td>\n",
       "      <td>0</td>\n",
       "    </tr>\n",
       "    <tr>\n",
       "      <th>2</th>\n",
       "      <td>3</td>\n",
       "      <td>57317.170063</td>\n",
       "      <td>63.108049</td>\n",
       "      <td>8020.953296</td>\n",
       "      <td>0.139940</td>\n",
       "      <td>0</td>\n",
       "    </tr>\n",
       "    <tr>\n",
       "      <th>3</th>\n",
       "      <td>4</td>\n",
       "      <td>42709.534201</td>\n",
       "      <td>45.751972</td>\n",
       "      <td>6103.642260</td>\n",
       "      <td>0.142911</td>\n",
       "      <td>0</td>\n",
       "    </tr>\n",
       "    <tr>\n",
       "      <th>4</th>\n",
       "      <td>5</td>\n",
       "      <td>66952.688845</td>\n",
       "      <td>18.584336</td>\n",
       "      <td>8770.099235</td>\n",
       "      <td>0.130989</td>\n",
       "      <td>1</td>\n",
       "    </tr>\n",
       "  </tbody>\n",
       "</table>\n",
       "</div>"
      ],
      "text/plain": [
       "   clientid        income        age         loan       LTI  default\n",
       "0         1  66155.925095  59.017015  8106.532131  0.122537        0\n",
       "1         2  34415.153966  48.117153  6564.745018  0.190752        0\n",
       "2         3  57317.170063  63.108049  8020.953296  0.139940        0\n",
       "3         4  42709.534201  45.751972  6103.642260  0.142911        0\n",
       "4         5  66952.688845  18.584336  8770.099235  0.130989        1"
      ]
     },
     "execution_count": 26,
     "metadata": {},
     "output_type": "execute_result"
    }
   ],
   "source": [
    "data.head()"
   ]
  },
  {
   "cell_type": "code",
   "execution_count": 27,
   "metadata": {},
   "outputs": [
    {
     "data": {
      "text/plain": [
       "(2000, 3)"
      ]
     },
     "execution_count": 27,
     "metadata": {},
     "output_type": "execute_result"
    }
   ],
   "source": [
    "features.shape"
   ]
  },
  {
   "cell_type": "code",
   "execution_count": 28,
   "metadata": {},
   "outputs": [
    {
     "data": {
      "text/plain": [
       "(2000,)"
      ]
     },
     "execution_count": 28,
     "metadata": {},
     "output_type": "execute_result"
    }
   ],
   "source": [
    "target.shape"
   ]
  },
  {
   "cell_type": "markdown",
   "metadata": {
    "id": "eIPffGnVVb1w"
   },
   "source": [
    "## **Preprocessing : Min Max Scaling**"
   ]
  },
  {
   "cell_type": "code",
   "execution_count": 29,
   "metadata": {
    "id": "no12PlrpKqNM"
   },
   "outputs": [
    {
     "data": {
      "text/plain": [
       "array([[0.9231759 , 0.89209175, 0.58883739],\n",
       "       [0.28812165, 0.65470788, 0.47682695],\n",
       "       [0.74633429, 0.9811888 , 0.58262011],\n",
       "       ...,\n",
       "       [0.48612202, 0.21695807, 0.40112895],\n",
       "       [0.47500998, 1.        , 0.1177903 ],\n",
       "       [0.98881367, 0.82970913, 0.53597028]])"
      ]
     },
     "execution_count": 29,
     "metadata": {},
     "output_type": "execute_result"
    }
   ],
   "source": [
    "features = preprocessing.MinMaxScaler().fit_transform(features)\n",
    "features"
   ]
  },
  {
   "cell_type": "code",
   "execution_count": 30,
   "metadata": {},
   "outputs": [],
   "source": [
    "feature_train, feature_test, target_train, target_test = train_test_split(features,target)"
   ]
  },
  {
   "cell_type": "markdown",
   "metadata": {
    "id": "kAp3J8onRTfT"
   },
   "source": [
    "## **Training the Model**\n",
    "\n",
    "We are using KNeighborsClassifier model as imported from sklearn.neighbors library and then it's being trained on feature_train and target_train"
   ]
  },
  {
   "cell_type": "code",
   "execution_count": 31,
   "metadata": {
    "id": "rb59b1dCRZT2"
   },
   "outputs": [],
   "source": [
    "model = KNeighborsClassifier(n_neighbors=3)\n",
    "fitModel = model.fit(feature_train, target_train)\n",
    "predictions = fitModel.predict(feature_test)"
   ]
  },
  {
   "cell_type": "code",
   "execution_count": 32,
   "metadata": {},
   "outputs": [
    {
     "data": {
      "text/plain": [
       "array([0, 0, 0, 0, 0, 0, 0, 0, 0, 0, 0, 0, 0, 0, 0, 0, 0, 0, 0, 0, 0, 0,\n",
       "       0, 0, 0, 0, 1, 0, 0, 0, 0, 0, 0, 0, 0, 0, 0, 0, 0, 0, 0, 0, 0, 0,\n",
       "       0, 1, 0, 0, 1, 0, 0, 0, 0, 0, 0, 0, 0, 0, 0, 0, 0, 0, 0, 0, 0, 0,\n",
       "       0, 0, 0, 0, 0, 0, 0, 1, 0, 0, 0, 0, 0, 0, 0, 1, 0, 0, 1, 0, 0, 0,\n",
       "       1, 0, 0, 0, 0, 0, 0, 0, 0, 0, 0, 0, 0, 0, 0, 0, 1, 1, 0, 1, 1, 1,\n",
       "       0, 0, 0, 0, 0, 0, 0, 1, 0, 0, 0, 0, 1, 0, 1, 0, 0, 0, 0, 1, 0, 0,\n",
       "       0, 1, 1, 1, 0, 0, 0, 1, 0, 0, 0, 1, 0, 0, 0, 0, 1, 0, 0, 0, 1, 0,\n",
       "       0, 0, 1, 0, 0, 0, 0, 0, 0, 0, 0, 0, 0, 1, 0, 0, 0, 0, 0, 0, 0, 1,\n",
       "       0, 0, 0, 1, 0, 1, 0, 0, 0, 0, 0, 0, 0, 0, 0, 0, 0, 1, 0, 0, 0, 0,\n",
       "       0, 0, 0, 0, 0, 0, 0, 0, 0, 0, 0, 0, 0, 0, 0, 0, 0, 1, 0, 0, 0, 0,\n",
       "       0, 0, 0, 0, 0, 1, 0, 0, 1, 0, 0, 0, 0, 0, 0, 0, 0, 0, 0, 0, 0, 0,\n",
       "       0, 1, 0, 0, 0, 0, 0, 1, 1, 0, 0, 0, 0, 0, 0, 0, 0, 0, 0, 1, 0, 1,\n",
       "       1, 0, 1, 0, 0, 0, 0, 0, 0, 0, 1, 0, 1, 0, 0, 0, 1, 0, 1, 1, 0, 0,\n",
       "       0, 0, 0, 0, 0, 0, 0, 1, 0, 0, 1, 0, 0, 0, 0, 0, 0, 0, 1, 0, 0, 1,\n",
       "       0, 0, 0, 0, 0, 0, 0, 0, 1, 1, 0, 0, 0, 1, 0, 1, 0, 0, 1, 0, 0, 0,\n",
       "       1, 1, 0, 1, 0, 0, 0, 0, 0, 0, 0, 1, 0, 0, 0, 0, 0, 0, 0, 1, 0, 0,\n",
       "       0, 1, 1, 0, 0, 1, 0, 0, 0, 0, 0, 0, 0, 1, 0, 0, 0, 0, 0, 0, 0, 0,\n",
       "       0, 0, 0, 0, 1, 0, 0, 0, 1, 0, 0, 1, 0, 0, 0, 0, 0, 0, 0, 0, 0, 0,\n",
       "       0, 0, 0, 0, 0, 0, 0, 0, 0, 0, 0, 0, 0, 0, 0, 0, 0, 0, 1, 0, 0, 0,\n",
       "       0, 0, 0, 1, 0, 0, 0, 0, 0, 1, 0, 0, 0, 1, 0, 0, 0, 1, 0, 1, 0, 0,\n",
       "       0, 0, 0, 0, 0, 0, 1, 0, 0, 0, 0, 0, 0, 0, 0, 0, 0, 0, 0, 1, 0, 0,\n",
       "       0, 0, 0, 0, 0, 0, 1, 1, 0, 0, 0, 0, 0, 0, 0, 0, 0, 0, 0, 0, 0, 0,\n",
       "       0, 0, 0, 0, 0, 0, 0, 0, 0, 0, 1, 0, 0, 0, 0, 0], dtype=int64)"
      ]
     },
     "execution_count": 32,
     "metadata": {},
     "output_type": "execute_result"
    }
   ],
   "source": [
    "predictions"
   ]
  },
  {
   "cell_type": "markdown",
   "metadata": {},
   "source": [
    "# **Printing an Error Matrix and Accuracy Score**"
   ]
  },
  {
   "cell_type": "code",
   "execution_count": 33,
   "metadata": {},
   "outputs": [
    {
     "name": "stdout",
     "output_type": "stream",
     "text": [
      "\n",
      "Confusion Matrix: \n",
      " [[416   6]\n",
      " [  8  70]]\n",
      "\n",
      "Accuracy Score:  0.972\n"
     ]
    }
   ],
   "source": [
    "print(\"\\nConfusion Matrix: \\n\",confusion_matrix(target_test,predictions))\n",
    "print(\"\\nAccuracy Score: \",accuracy_score(target_test,predictions))"
   ]
  },
  {
   "cell_type": "code",
   "execution_count": 34,
   "metadata": {},
   "outputs": [
    {
     "data": {
      "text/plain": [
       "<AxesSubplot:>"
      ]
     },
     "execution_count": 34,
     "metadata": {},
     "output_type": "execute_result"
    },
    {
     "data": {
      "image/png": "[encoded data removed]",
      "text/plain": [
       "<Figure size 432x288 with 2 Axes>"
      ]
     },
     "metadata": {
      "needs_background": "light"
     },
     "output_type": "display_data"
    }
   ],
   "source": [
    "import seaborn as sns\n",
    "sns.heatmap(confusion_matrix(target_test,predictions), annot=True, cmap='Blues')"
   ]
  },
  {
   "cell_type": "markdown",
   "metadata": {
    "id": "hLhFIPbuRhZo"
   },
   "source": [
    "## **Finding Optimal K Value (passing entire features)**\n",
    "\n",
    "We are going to use cross-validation in order to find the optimal k value. This optimal value is not going to have as good accuracy and precision as we have seen for any neighbors close to n but it is going to be much more realistic because we use cross-validation. So we are going to use the cross-validation scores and then we are going to make a simple iteration. Basically we are going to consider k values from 1 up to 100."
   ]
  },
  {
   "cell_type": "code",
   "execution_count": 35,
   "metadata": {
    "colab": {
     "base_uri": "https://localhost:8080/",
     "height": 34
    },
    "id": "-D1-Cfa_Rm-D",
    "outputId": "699f0275-626f-4bb1-873f-d7004698a1a3"
   },
   "outputs": [
    {
     "name": "stdout",
     "output_type": "stream",
     "text": [
      "[0.98  0.985 0.98  0.985 0.97  0.985 0.975 0.965 0.95  0.97 ]\n",
      "[0.99  0.985 0.965 0.98  0.965 0.99  0.975 0.955 0.96  0.965]\n",
      "[0.99  0.985 0.965 0.985 0.965 0.98  0.985 0.975 0.975 0.98 ]\n",
      "[0.995 0.98  0.97  0.975 0.97  0.98  0.975 0.965 0.97  0.97 ]\n",
      "[0.99  0.985 0.965 0.98  0.975 0.99  0.975 0.965 0.975 0.975]\n",
      "[0.99  0.97  0.965 0.975 0.965 0.99  0.98  0.955 0.97  0.97 ]\n",
      "[0.99  0.99  0.97  0.98  0.98  1.    0.985 0.965 0.965 0.975]\n",
      "[0.985 0.985 0.975 0.975 0.98  1.    0.98  0.96  0.97  0.97 ]\n",
      "[0.99  0.985 0.98  0.985 0.985 1.    0.98  0.97  0.96  0.97 ]\n",
      "[0.99  0.985 0.975 0.975 0.985 0.995 0.98  0.97  0.97  0.965]\n",
      "[0.985 0.99  0.98  0.975 0.985 0.995 0.985 0.97  0.965 0.97 ]\n",
      "[0.98  0.985 0.975 0.97  0.99  0.995 0.985 0.98  0.965 0.965]\n",
      "[0.975 0.985 0.98  0.985 0.98  0.99  0.985 0.975 0.965 0.97 ]\n",
      "[0.98  0.985 0.97  0.975 0.99  0.995 0.975 0.975 0.97  0.97 ]\n",
      "[0.985 0.985 0.975 0.975 0.985 0.99  0.975 0.975 0.965 0.97 ]\n",
      "[0.98  0.98  0.97  0.975 0.98  0.995 0.97  0.975 0.96  0.97 ]\n",
      "[0.985 0.99  0.975 0.98  0.99  0.99  0.975 0.975 0.97  0.96 ]\n",
      "[0.98  0.985 0.975 0.98  0.99  0.99  0.97  0.98  0.975 0.965]\n",
      "[0.98  0.995 0.985 0.985 0.985 0.99  0.98  0.975 0.975 0.965]\n",
      "[0.98  0.99  0.97  0.975 0.975 0.995 0.97  0.975 0.975 0.97 ]\n",
      "[0.98  0.995 0.98  0.98  0.98  0.995 0.97  0.975 0.985 0.97 ]\n",
      "[0.98  0.985 0.975 0.975 0.98  0.995 0.975 0.975 0.975 0.97 ]\n",
      "[0.98  0.99  0.97  0.985 0.98  0.99  0.975 0.975 0.985 0.975]\n",
      "[0.98  0.99  0.965 0.985 0.97  0.99  0.97  0.975 0.975 0.98 ]\n",
      "[0.98  0.99  0.97  0.99  0.975 0.995 0.975 0.97  0.98  0.98 ]\n",
      "[0.98  0.985 0.965 0.99  0.97  0.995 0.97  0.98  0.975 0.975]\n",
      "[0.98  0.985 0.965 0.995 0.975 0.995 0.98  0.98  0.985 0.975]\n",
      "[0.985 0.985 0.97  0.985 0.98  0.99  0.98  0.98  0.975 0.975]\n",
      "[0.985 0.985 0.975 0.99  0.975 0.995 0.98  0.985 0.99  0.975]\n",
      "[0.985 0.985 0.965 0.985 0.975 0.995 0.975 0.99  0.985 0.975]\n",
      "[0.985 0.99  0.975 0.985 0.97  0.995 0.98  0.99  0.99  0.975]\n",
      "[0.985 0.985 0.975 0.985 0.975 0.99  0.98  0.985 0.99  0.97 ]\n",
      "[0.99  0.985 0.97  0.99  0.98  0.995 0.98  0.99  0.99  0.975]\n",
      "[0.99  0.98  0.97  0.99  0.975 0.99  0.975 0.98  0.98  0.97 ]\n",
      "[0.99  0.985 0.965 0.99  0.98  0.995 0.98  0.98  0.99  0.975]\n",
      "[0.99  0.97  0.965 0.985 0.965 0.99  0.98  0.975 0.985 0.975]\n",
      "[0.99  0.98  0.96  0.995 0.97  0.99  0.98  0.98  0.99  0.975]\n",
      "[0.99  0.98  0.97  0.98  0.96  0.99  0.98  0.98  0.99  0.975]\n",
      "[0.99  0.975 0.965 0.995 0.955 0.99  0.98  0.98  0.99  0.975]\n",
      "[0.99  0.975 0.965 0.98  0.96  0.99  0.98  0.98  0.985 0.975]\n",
      "[0.99  0.98  0.965 0.985 0.955 0.995 0.98  0.98  0.985 0.975]\n",
      "[0.985 0.98  0.965 0.985 0.955 0.995 0.98  0.975 0.98  0.975]\n",
      "[0.985 0.98  0.965 0.985 0.955 1.    0.98  0.98  0.985 0.975]\n",
      "[0.985 0.97  0.97  0.985 0.965 1.    0.975 0.98  0.985 0.975]\n",
      "[0.985 0.975 0.97  0.99  0.96  1.    0.975 0.975 0.985 0.975]\n",
      "[0.985 0.975 0.975 0.985 0.965 1.    0.97  0.975 0.985 0.975]\n",
      "[0.985 0.975 0.965 0.985 0.96  1.    0.97  0.98  0.985 0.97 ]\n",
      "[0.985 0.975 0.975 0.98  0.965 0.995 0.97  0.98  0.985 0.975]\n",
      "[0.985 0.98  0.975 0.98  0.965 1.    0.97  0.98  0.985 0.975]\n",
      "[0.985 0.97  0.975 0.98  0.97  0.99  0.97  0.98  0.98  0.975]\n",
      "[0.985 0.98  0.975 0.98  0.96  0.995 0.97  0.98  0.98  0.97 ]\n",
      "[0.985 0.98  0.975 0.98  0.965 0.995 0.97  0.98  0.98  0.975]\n",
      "[0.985 0.98  0.97  0.98  0.965 0.995 0.97  0.98  0.975 0.97 ]\n",
      "[0.985 0.98  0.975 0.98  0.975 0.99  0.97  0.98  0.975 0.97 ]\n",
      "[0.985 0.98  0.97  0.985 0.965 0.99  0.97  0.98  0.975 0.97 ]\n",
      "[0.985 0.975 0.97  0.98  0.965 0.99  0.965 0.98  0.975 0.975]\n",
      "[0.985 0.98  0.97  0.98  0.955 0.99  0.97  0.98  0.975 0.97 ]\n",
      "[0.985 0.98  0.97  0.98  0.965 0.99  0.965 0.98  0.975 0.97 ]\n",
      "[0.985 0.975 0.97  0.985 0.965 0.99  0.965 0.98  0.98  0.97 ]\n",
      "[0.985 0.975 0.97  0.975 0.97  0.985 0.96  0.98  0.98  0.97 ]\n",
      "[0.985 0.975 0.97  0.985 0.965 0.985 0.97  0.98  0.98  0.97 ]\n",
      "[0.985 0.975 0.97  0.98  0.97  0.985 0.96  0.98  0.98  0.97 ]\n",
      "[0.985 0.975 0.97  0.98  0.965 0.99  0.97  0.98  0.98  0.97 ]\n",
      "[0.985 0.98  0.97  0.98  0.965 0.985 0.96  0.98  0.98  0.975]\n",
      "[0.98  0.98  0.975 0.98  0.97  0.99  0.965 0.98  0.975 0.97 ]\n",
      "[0.985 0.975 0.975 0.975 0.97  0.99  0.96  0.975 0.98  0.97 ]\n",
      "[0.98  0.975 0.975 0.975 0.97  0.99  0.96  0.975 0.975 0.97 ]\n",
      "[0.985 0.975 0.97  0.975 0.965 0.99  0.96  0.975 0.98  0.975]\n",
      "[0.98  0.975 0.97  0.975 0.965 0.99  0.96  0.975 0.975 0.975]\n",
      "[0.98  0.975 0.97  0.975 0.965 0.99  0.96  0.975 0.98  0.97 ]\n",
      "[0.98  0.975 0.97  0.98  0.965 0.99  0.96  0.975 0.98  0.965]\n",
      "[0.985 0.975 0.97  0.98  0.965 0.99  0.96  0.975 0.98  0.965]\n",
      "[0.98  0.975 0.97  0.98  0.965 0.99  0.96  0.975 0.98  0.965]\n",
      "[0.98  0.975 0.97  0.97  0.965 0.99  0.96  0.975 0.98  0.965]\n",
      "[0.98  0.975 0.975 0.97  0.965 0.99  0.96  0.975 0.98  0.965]\n",
      "[0.98  0.975 0.98  0.97  0.965 0.99  0.96  0.975 0.975 0.97 ]\n",
      "[0.98  0.975 0.975 0.975 0.965 0.99  0.96  0.975 0.98  0.965]\n",
      "[0.98  0.975 0.98  0.975 0.96  0.99  0.955 0.975 0.97  0.97 ]\n",
      "[0.98  0.975 0.975 0.975 0.96  0.99  0.96  0.975 0.975 0.97 ]\n",
      "[0.98  0.975 0.975 0.975 0.96  0.99  0.96  0.975 0.965 0.97 ]\n",
      "[0.98  0.975 0.975 0.98  0.96  0.99  0.96  0.975 0.975 0.965]\n",
      "[0.98  0.975 0.975 0.98  0.96  0.99  0.96  0.975 0.97  0.965]\n",
      "[0.98  0.975 0.975 0.98  0.96  0.99  0.96  0.975 0.975 0.965]\n",
      "[0.975 0.975 0.975 0.975 0.96  0.99  0.96  0.975 0.975 0.965]\n",
      "[0.975 0.975 0.975 0.975 0.96  0.99  0.96  0.98  0.98  0.965]\n",
      "[0.975 0.975 0.975 0.975 0.96  0.99  0.96  0.98  0.97  0.96 ]\n",
      "[0.975 0.975 0.98  0.975 0.96  0.99  0.96  0.98  0.97  0.96 ]\n",
      "[0.97  0.975 0.98  0.975 0.96  0.99  0.96  0.975 0.97  0.96 ]\n",
      "[0.975 0.975 0.98  0.98  0.96  0.99  0.96  0.975 0.965 0.96 ]\n",
      "[0.975 0.975 0.98  0.975 0.96  0.99  0.96  0.975 0.965 0.96 ]\n",
      "[0.975 0.975 0.98  0.975 0.96  0.99  0.96  0.98  0.965 0.955]\n",
      "[0.975 0.975 0.985 0.975 0.96  0.99  0.96  0.975 0.965 0.955]\n",
      "[0.975 0.98  0.98  0.975 0.96  0.99  0.96  0.975 0.96  0.955]\n",
      "[0.97  0.98  0.98  0.975 0.955 0.99  0.96  0.975 0.96  0.96 ]\n",
      "[0.975 0.98  0.98  0.975 0.955 0.99  0.96  0.975 0.96  0.955]\n",
      "[0.97  0.975 0.98  0.975 0.945 0.99  0.955 0.975 0.96  0.96 ]\n",
      "[0.97  0.975 0.98  0.975 0.95  0.99  0.955 0.975 0.96  0.955]\n",
      "[0.97  0.975 0.98  0.975 0.95  0.99  0.955 0.975 0.96  0.955]\n",
      "[0.97  0.975 0.98  0.975 0.95  0.99  0.96  0.975 0.96  0.955]\n",
      "\n",
      "Optimal k with cross-validation: \t 32\n"
     ]
    }
   ],
   "source": [
    "cross_valid_scores = [] #empty list\n",
    "\n",
    "for k in range(1, 100):\n",
    "    knn = KNeighborsClassifier(n_neighbors = k)\n",
    "    scores = cross_val_score(knn,features, target, cv = 10, scoring = 'accuracy')\n",
    "    print(scores)\n",
    "    cross_valid_scores.append(scores.mean())    \n",
    "\n",
    "print(\"\\nOptimal k with cross-validation: \\t\",np.argmax(cross_valid_scores))"
   ]
  },
  {
   "cell_type": "code",
   "execution_count": 36,
   "metadata": {},
   "outputs": [],
   "source": [
    "model = KNeighborsClassifier(n_neighbors=32)\n",
    "fitModel = model.fit(feature_train, target_train)\n",
    "predictions = fitModel.predict(feature_test)"
   ]
  },
  {
   "cell_type": "markdown",
   "metadata": {
    "id": "sNNO5mspRquQ"
   },
   "source": [
    "**Printing an Error Matrix and Accuracy Score**"
   ]
  },
  {
   "cell_type": "code",
   "execution_count": 37,
   "metadata": {
    "colab": {
     "base_uri": "https://localhost:8080/",
     "height": 70
    },
    "id": "HDAXijk-SOkI",
    "outputId": "db9e8b1a-de45-4c24-9f4b-fdff4bfd4285",
    "scrolled": true
   },
   "outputs": [
    {
     "name": "stdout",
     "output_type": "stream",
     "text": [
      "\n",
      "Confusion Matrix: \n",
      " [[421   1]\n",
      " [ 14  64]]\n",
      "\n",
      "Accuracy Score:  0.97\n"
     ]
    }
   ],
   "source": [
    "print(\"\\nConfusion Matrix: \\n\",confusion_matrix(target_test,predictions))\n",
    "print(\"\\nAccuracy Score: \",accuracy_score(target_test,predictions))"
   ]
  },
  {
   "cell_type": "code",
   "execution_count": 38,
   "metadata": {
    "colab": {
     "base_uri": "https://localhost:8080/",
     "height": 282
    },
    "id": "zb2e9R3Ah_DE",
    "outputId": "6dfb9f73-58cf-4e47-d493-0ec9c758fbfc"
   },
   "outputs": [
    {
     "data": {
      "text/plain": [
       "<AxesSubplot:>"
      ]
     },
     "execution_count": 38,
     "metadata": {},
     "output_type": "execute_result"
    },
    {
     "data": {
      "image/png": "[encoded data removed]",
      "text/plain": [
       "<Figure size 432x288 with 2 Axes>"
      ]
     },
     "metadata": {
      "needs_background": "light"
     },
     "output_type": "display_data"
    }
   ],
   "source": [
    "import seaborn as sns\n",
    "sns.heatmap(confusion_matrix(target_test,predictions), annot=True, cmap='Blues')"
   ]
  },
  {
   "cell_type": "code",
   "execution_count": null,
   "metadata": {},
   "outputs": [],
   "source": []
  },
  {
   "cell_type": "markdown",
   "metadata": {},
   "source": [
    "**As we have passed the entire features, sometimes there is a chance that the model is over fitted**"
   ]
  },
  {
   "cell_type": "markdown",
   "metadata": {},
   "source": [
    "# **Finding Optimal K Value (passing feature_train)**"
   ]
  },
  {
   "cell_type": "code",
   "execution_count": 39,
   "metadata": {},
   "outputs": [
    {
     "name": "stdout",
     "output_type": "stream",
     "text": [
      "[0.97333333 0.99333333 0.98666667 0.98666667 0.98       0.98\n",
      " 0.98       0.97333333 0.95333333 0.97333333]\n",
      "[0.96666667 0.98666667 0.97333333 0.98       0.98       0.98\n",
      " 0.97333333 0.94666667 0.94666667 0.97333333]\n",
      "[0.96       0.98666667 1.         0.99333333 0.98       0.97333333\n",
      " 0.97333333 0.95333333 0.96666667 0.98666667]\n",
      "[0.95333333 0.99333333 0.99333333 0.98       0.98666667 0.97333333\n",
      " 0.98666667 0.96666667 0.95333333 0.97333333]\n",
      "[0.96666667 0.99333333 1.         0.99333333 0.98       0.96666667\n",
      " 0.97333333 0.96       0.97333333 0.98      ]\n",
      "[0.95333333 0.99333333 0.99333333 0.99333333 0.98       0.96666667\n",
      " 0.98       0.96       0.96666667 0.98      ]\n",
      "[0.97333333 0.99333333 1.         0.99333333 0.98       0.97333333\n",
      " 0.96666667 0.97333333 0.97333333 0.98666667]\n",
      "[0.96       0.99333333 0.99333333 0.99333333 0.97333333 0.97333333\n",
      " 0.97333333 0.96       0.96666667 0.98666667]\n",
      "[0.96       1.         0.99333333 0.99333333 0.97333333 0.98\n",
      " 0.96       0.96666667 0.96666667 0.98666667]\n",
      "[0.96       0.99333333 0.98666667 0.99333333 0.98       0.98666667\n",
      " 0.97333333 0.96666667 0.95333333 0.99333333]\n",
      "[0.95333333 0.99333333 0.99333333 0.99333333 0.98       0.98666667\n",
      " 0.96       0.96666667 0.94666667 0.99333333]\n",
      "[0.95333333 0.99333333 0.98666667 0.98666667 0.98       0.98\n",
      " 0.97333333 0.96666667 0.94666667 0.98666667]\n",
      "[0.95333333 1.         0.98666667 0.99333333 0.98       0.98666667\n",
      " 0.97333333 0.96       0.96       0.98      ]\n",
      "[0.95333333 0.99333333 0.98666667 0.98666667 0.98       0.98\n",
      " 0.98       0.96666667 0.94666667 0.97333333]\n",
      "[0.96       0.99333333 0.99333333 0.99333333 0.97333333 0.97333333\n",
      " 0.98       0.96       0.94666667 0.97333333]\n",
      "[0.95333333 0.99333333 0.98666667 0.99333333 0.98       0.97333333\n",
      " 0.97333333 0.96666667 0.94666667 0.97333333]\n",
      "[0.96       1.         1.         0.99333333 0.98       0.96666667\n",
      " 0.98       0.96666667 0.94666667 0.97333333]\n",
      "[0.96666667 1.         0.99333333 0.99333333 0.98       0.96666667\n",
      " 0.97333333 0.96       0.95333333 0.97333333]\n",
      "[0.96666667 1.         1.         0.99333333 0.98666667 0.98\n",
      " 0.98       0.96       0.96       0.98      ]\n",
      "[0.96       1.         0.98666667 0.99333333 0.98666667 0.98\n",
      " 0.97333333 0.96666667 0.96       0.97333333]\n",
      "[0.96       1.         0.99333333 0.99333333 0.99333333 0.98\n",
      " 0.97333333 0.97333333 0.96666667 0.97333333]\n",
      "[0.96       1.         0.99333333 0.98666667 0.99333333 0.98\n",
      " 0.96666667 0.97333333 0.96       0.97333333]\n",
      "[0.96666667 1.         0.99333333 0.99333333 0.98666667 0.98666667\n",
      " 0.97333333 0.98       0.96       0.97333333]\n",
      "[0.97333333 1.         0.99333333 0.98666667 0.98666667 0.98666667\n",
      " 0.97333333 0.96666667 0.95333333 0.97333333]\n",
      "[0.97333333 0.99333333 1.         0.98666667 0.98666667 0.98666667\n",
      " 0.96666667 0.96666667 0.96       0.97333333]\n",
      "[0.96666667 1.         0.99333333 0.98666667 0.98666667 0.98666667\n",
      " 0.96       0.96666667 0.96       0.97333333]\n",
      "[0.96666667 1.         1.         0.98666667 0.98666667 0.98\n",
      " 0.96666667 0.97333333 0.96       0.97333333]\n",
      "[0.96666667 1.         0.99333333 0.98666667 0.98666667 0.96666667\n",
      " 0.96666667 0.96666667 0.96       0.97333333]\n",
      "[0.96       0.99333333 1.         0.98666667 0.98666667 0.97333333\n",
      " 0.98       0.97333333 0.96666667 0.97333333]\n",
      "[0.95333333 1.         1.         0.98666667 0.98       0.97333333\n",
      " 0.97333333 0.96666667 0.94666667 0.97333333]\n",
      "[0.95333333 1.         1.         0.98666667 0.98       0.98\n",
      " 0.98666667 0.97333333 0.96       0.97333333]\n",
      "[0.96       1.         1.         0.98666667 0.98       0.98\n",
      " 0.98       0.96666667 0.95333333 0.97333333]\n",
      "[0.96       1.         1.         0.99333333 0.98       0.96666667\n",
      " 0.97333333 0.97333333 0.95333333 0.97333333]\n",
      "[0.96       1.         1.         0.98666667 0.97333333 0.96666667\n",
      " 0.97333333 0.96666667 0.94       0.96666667]\n",
      "[0.96       1.         1.         0.98666667 0.97333333 0.96\n",
      " 0.98       0.97333333 0.94666667 0.96666667]\n",
      "[0.95333333 1.         1.         0.98666667 0.97333333 0.96\n",
      " 0.97333333 0.97333333 0.94666667 0.97333333]\n",
      "[0.94       1.         1.         0.99333333 0.97333333 0.96\n",
      " 0.98       0.97333333 0.94       0.97333333]\n",
      "[0.94666667 1.         1.         0.98666667 0.97333333 0.96\n",
      " 0.97333333 0.97333333 0.94666667 0.97333333]\n",
      "[0.94666667 1.         1.         0.98666667 0.97333333 0.96\n",
      " 0.96666667 0.97333333 0.94666667 0.97333333]\n",
      "[0.95333333 1.         1.         0.98666667 0.97333333 0.96666667\n",
      " 0.97333333 0.97333333 0.94666667 0.97333333]\n",
      "[0.96       0.99333333 1.         0.99333333 0.98       0.96666667\n",
      " 0.96666667 0.97333333 0.94666667 0.97333333]\n",
      "[0.96       1.         1.         0.99333333 0.97333333 0.97333333\n",
      " 0.96666667 0.97333333 0.94666667 0.97333333]\n",
      "[0.95333333 1.         1.         0.99333333 0.97333333 0.96\n",
      " 0.96666667 0.97333333 0.94666667 0.97333333]\n",
      "[0.95333333 1.         0.99333333 0.98666667 0.97333333 0.96666667\n",
      " 0.97333333 0.97333333 0.94666667 0.97333333]\n",
      "[0.96       1.         0.99333333 0.99333333 0.97333333 0.96\n",
      " 0.96666667 0.97333333 0.94       0.97333333]\n",
      "[0.96       1.         0.99333333 0.98       0.97333333 0.96\n",
      " 0.97333333 0.96666667 0.94       0.97333333]\n",
      "[0.95333333 1.         0.99333333 0.98666667 0.97333333 0.96\n",
      " 0.98       0.96666667 0.94       0.97333333]\n",
      "[0.95333333 1.         0.99333333 0.98666667 0.97333333 0.96\n",
      " 0.97333333 0.96666667 0.94       0.97333333]\n",
      "[0.95333333 1.         0.99333333 0.98666667 0.96666667 0.96\n",
      " 0.97333333 0.97333333 0.94       0.97333333]\n",
      "[0.96       1.         0.99333333 0.98666667 0.97333333 0.96666667\n",
      " 0.97333333 0.95333333 0.93333333 0.97333333]\n",
      "[0.95333333 1.         0.99333333 0.98666667 0.96666667 0.97333333\n",
      " 0.97333333 0.96       0.93333333 0.97333333]\n",
      "[0.95333333 1.         0.99333333 0.98       0.97333333 0.97333333\n",
      " 0.97333333 0.96       0.93333333 0.97333333]\n",
      "[0.95333333 1.         0.99333333 0.98       0.97333333 0.97333333\n",
      " 0.96666667 0.96       0.93333333 0.97333333]\n",
      "[0.94666667 1.         0.99333333 0.98       0.97333333 0.97333333\n",
      " 0.96666667 0.95333333 0.93333333 0.97333333]\n",
      "[0.95333333 1.         0.99333333 0.98       0.97333333 0.97333333\n",
      " 0.96666667 0.96       0.93333333 0.97333333]\n",
      "[0.96       1.         0.99333333 0.98       0.97333333 0.97333333\n",
      " 0.97333333 0.95333333 0.93333333 0.97333333]\n",
      "[0.95333333 1.         0.99333333 0.98       0.97333333 0.97333333\n",
      " 0.96666667 0.96       0.93333333 0.97333333]\n",
      "[0.95333333 1.         0.99333333 0.98       0.97333333 0.97333333\n",
      " 0.96666667 0.96       0.93333333 0.97333333]\n",
      "[0.95333333 1.         0.99333333 0.98       0.97333333 0.97333333\n",
      " 0.96666667 0.96       0.94       0.98      ]\n",
      "[0.95333333 1.         0.99333333 0.98       0.97333333 0.97333333\n",
      " 0.96666667 0.95333333 0.93333333 0.97333333]\n",
      "[0.95333333 1.         0.99333333 0.98       0.97333333 0.97333333\n",
      " 0.96666667 0.96       0.93333333 0.98      ]\n",
      "[0.95333333 1.         0.99333333 0.98       0.96666667 0.96666667\n",
      " 0.96666667 0.95333333 0.93333333 0.98      ]\n",
      "[0.95333333 1.         0.99333333 0.98       0.96666667 0.96666667\n",
      " 0.96666667 0.96666667 0.92666667 0.98      ]\n",
      "[0.95333333 1.         0.98666667 0.98       0.96666667 0.96666667\n",
      " 0.96666667 0.96       0.93333333 0.98      ]\n",
      "[0.95333333 1.         0.99333333 0.98       0.96666667 0.96666667\n",
      " 0.96666667 0.95333333 0.93333333 0.98      ]\n",
      "[0.95333333 1.         0.98666667 0.98       0.96666667 0.96666667\n",
      " 0.97333333 0.95333333 0.93333333 0.97333333]\n",
      "[0.95333333 1.         0.98666667 0.98       0.96666667 0.96666667\n",
      " 0.97333333 0.95333333 0.92666667 0.98      ]\n",
      "[0.94666667 0.99333333 0.98666667 0.97333333 0.96666667 0.96666667\n",
      " 0.98       0.95333333 0.92       0.97333333]\n",
      "[0.95333333 0.99333333 0.98666667 0.97333333 0.96666667 0.96666667\n",
      " 0.97333333 0.95333333 0.92       0.98      ]\n",
      "[0.95333333 0.99333333 0.98666667 0.97333333 0.96666667 0.96666667\n",
      " 0.98       0.94666667 0.92666667 0.98      ]\n",
      "[0.95333333 1.         0.98666667 0.97333333 0.96666667 0.96666667\n",
      " 0.97333333 0.94666667 0.92666667 0.98      ]\n",
      "[0.95333333 0.99333333 0.98666667 0.97333333 0.96666667 0.96666667\n",
      " 0.97333333 0.94666667 0.92666667 0.98      ]\n",
      "[0.95333333 1.         0.98666667 0.97333333 0.96666667 0.96666667\n",
      " 0.97333333 0.95333333 0.92666667 0.98      ]\n",
      "[0.94666667 1.         0.98       0.97333333 0.96666667 0.96666667\n",
      " 0.97333333 0.95333333 0.92666667 0.98      ]\n"
     ]
    },
    {
     "name": "stdout",
     "output_type": "stream",
     "text": [
      "[0.94666667 1.         0.98       0.97333333 0.96666667 0.96666667\n",
      " 0.97333333 0.95333333 0.92       0.98      ]\n",
      "[0.94666667 1.         0.97333333 0.97333333 0.96666667 0.96666667\n",
      " 0.96666667 0.94666667 0.92       0.98      ]\n",
      "[0.94       1.         0.98       0.97333333 0.96666667 0.96666667\n",
      " 0.97333333 0.94666667 0.92       0.98      ]\n",
      "[0.94       1.         0.98       0.97333333 0.96666667 0.96666667\n",
      " 0.96666667 0.94666667 0.91333333 0.98      ]\n",
      "[0.94       1.         0.98       0.97333333 0.96666667 0.96666667\n",
      " 0.97333333 0.94666667 0.91333333 0.98      ]\n",
      "[0.93333333 0.99333333 0.98       0.97333333 0.96666667 0.96666667\n",
      " 0.96666667 0.94666667 0.91333333 0.98      ]\n",
      "[0.94       0.99333333 0.98       0.97333333 0.96666667 0.96666667\n",
      " 0.96666667 0.94666667 0.91333333 0.98      ]\n",
      "[0.93333333 0.99333333 0.98       0.97333333 0.96666667 0.96666667\n",
      " 0.96666667 0.94666667 0.91333333 0.98      ]\n",
      "[0.93333333 0.99333333 0.98       0.97333333 0.96666667 0.96666667\n",
      " 0.97333333 0.94666667 0.91333333 0.98      ]\n",
      "[0.93333333 0.99333333 0.97333333 0.97333333 0.96666667 0.96666667\n",
      " 0.96666667 0.94666667 0.91333333 0.98      ]\n",
      "[0.93333333 0.99333333 0.97333333 0.97333333 0.96666667 0.96666667\n",
      " 0.97333333 0.94666667 0.91333333 0.98      ]\n",
      "[0.93333333 0.99333333 0.97333333 0.97333333 0.96666667 0.96666667\n",
      " 0.96666667 0.94666667 0.90666667 0.98      ]\n",
      "[0.93333333 0.99333333 0.97333333 0.97333333 0.96666667 0.96666667\n",
      " 0.96666667 0.94       0.90666667 0.98      ]\n",
      "[0.93333333 0.98666667 0.97333333 0.97333333 0.96666667 0.96666667\n",
      " 0.96666667 0.94       0.90666667 0.98      ]\n",
      "[0.92666667 0.99333333 0.97333333 0.97333333 0.96666667 0.96666667\n",
      " 0.96666667 0.94       0.90666667 0.98      ]\n",
      "[0.94       0.98666667 0.97333333 0.97333333 0.96666667 0.96666667\n",
      " 0.96666667 0.94666667 0.90666667 0.98      ]\n",
      "[0.93333333 0.98666667 0.97333333 0.97333333 0.96666667 0.96666667\n",
      " 0.96666667 0.94666667 0.90666667 0.98      ]\n",
      "[0.93333333 0.98666667 0.97333333 0.97333333 0.96666667 0.96666667\n",
      " 0.96666667 0.94666667 0.90666667 0.98      ]\n",
      "[0.94       0.98666667 0.97333333 0.97333333 0.96666667 0.96666667\n",
      " 0.96666667 0.94666667 0.90666667 0.98      ]\n",
      "[0.94       0.98666667 0.96666667 0.96666667 0.96666667 0.96666667\n",
      " 0.96666667 0.93333333 0.90666667 0.98      ]\n",
      "[0.93333333 0.98666667 0.96666667 0.96666667 0.96666667 0.96666667\n",
      " 0.97333333 0.94666667 0.90666667 0.98      ]\n",
      "[0.94       0.98666667 0.96666667 0.96666667 0.96666667 0.96666667\n",
      " 0.96666667 0.92666667 0.90666667 0.98      ]\n",
      "[0.94       0.98666667 0.96666667 0.97333333 0.96666667 0.96666667\n",
      " 0.97333333 0.94666667 0.90666667 0.98      ]\n",
      "[0.94       0.98666667 0.96666667 0.96666667 0.96666667 0.96666667\n",
      " 0.96666667 0.92666667 0.90666667 0.98      ]\n",
      "[0.93333333 0.98666667 0.96666667 0.96666667 0.96666667 0.96666667\n",
      " 0.97333333 0.94       0.90666667 0.98      ]\n",
      "\n",
      "Optimal k with cross-validation: \t 6\n"
     ]
    }
   ],
   "source": [
    "cross_valid_scores = [] #empty list\n",
    "\n",
    "for k in range(1, 100):\n",
    "    knn = KNeighborsClassifier(n_neighbors = k)\n",
    "    scores = cross_val_score(knn,feature_train, target_train, cv = 10, scoring = 'accuracy')\n",
    "    print(scores)\n",
    "    cross_valid_scores.append(scores.mean())    \n",
    "\n",
    "print(\"\\nOptimal k with cross-validation: \\t\",np.argmax(cross_valid_scores))"
   ]
  },
  {
   "cell_type": "code",
   "execution_count": 40,
   "metadata": {},
   "outputs": [],
   "source": [
    "model = KNeighborsClassifier(n_neighbors=18)\n",
    "fitModel = model.fit(feature_train, target_train)\n",
    "predictions = fitModel.predict(feature_test)"
   ]
  },
  {
   "cell_type": "code",
   "execution_count": 41,
   "metadata": {},
   "outputs": [
    {
     "name": "stdout",
     "output_type": "stream",
     "text": [
      "\n",
      "Confusion Matrix: \n",
      " [[421   1]\n",
      " [ 11  67]]\n",
      "\n",
      "Accuracy Score:  0.976\n"
     ]
    }
   ],
   "source": [
    "print(\"\\nConfusion Matrix: \\n\",confusion_matrix(target_test,predictions))\n",
    "print(\"\\nAccuracy Score: \",accuracy_score(target_test,predictions))"
   ]
  },
  {
   "cell_type": "code",
   "execution_count": 42,
   "metadata": {},
   "outputs": [
    {
     "data": {
      "text/plain": [
       "<AxesSubplot:>"
      ]
     },
     "execution_count": 42,
     "metadata": {},
     "output_type": "execute_result"
    },
    {
     "data": {
      "image/png": "[encoded data removed]",
      "text/plain": [
       "<Figure size 432x288 with 2 Axes>"
      ]
     },
     "metadata": {
      "needs_background": "light"
     },
     "output_type": "display_data"
    }
   ],
   "source": [
    "import seaborn as sns\n",
    "sns.heatmap(confusion_matrix(target_test,predictions), annot=True, cmap='Blues')"
   ]
  },
  {
   "cell_type": "code",
   "execution_count": null,
   "metadata": {},
   "outputs": [],
   "source": []
  },
  {
   "cell_type": "code",
   "execution_count": null,
   "metadata": {},
   "outputs": [],
   "source": []
  },
  {
   "cell_type": "code",
   "execution_count": null,
   "metadata": {},
   "outputs": [],
   "source": []
  },
  {
   "cell_type": "code",
   "execution_count": null,
   "metadata": {},
   "outputs": [],
   "source": []
  }
 ],
 "metadata": {
  "colab": {
   "collapsed_sections": [],
   "name": "10_K_Nearest_Neighbors.ipynb",
   "provenance": []
  },
  "kernelspec": {
   "display_name": "Python 3",
   "language": "python",
   "name": "python3"
  },
  "language_info": {
   "codemirror_mode": {
    "name": "ipython",
    "version": 3
   },
   "file_extension": ".py",
   "mimetype": "text/x-python",
   "name": "python",
   "nbconvert_exporter": "python",
   "pygments_lexer": "ipython3",
   "version": "3.8.8"
  }
 },
 "nbformat": 4,
 "nbformat_minor": 1
}
