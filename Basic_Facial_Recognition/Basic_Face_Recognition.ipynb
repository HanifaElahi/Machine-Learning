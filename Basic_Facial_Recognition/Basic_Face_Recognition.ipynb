{
 "cells": [
  {
   "cell_type": "markdown",
   "metadata": {
    "id": "n3IIac7GSVjP"
   },
   "source": [
    "## **Facial Recognition System**\n",
    "\n",
    "\n",
    "Let's just simply understand the difference.\n",
    "<img src = \"https://images.squarespace-cdn.com/content/56fbbea286db438eca867c34/1560417382045-CHV2HVSOYFP4RDRYD4W0/FaceDetect-vs-FacialRecog.jpg?content-type=image%2Fjpeg\">"
   ]
  },
  {
   "cell_type": "code",
   "execution_count": 1,
   "metadata": {
    "id": "pshDkWdyVYvy"
   },
   "outputs": [
    {
     "name": "stdout",
     "output_type": "stream",
     "text": [
      "Requirement already satisfied: face_recognition in /opt/anaconda3/lib/python3.8/site-packages (1.3.0)\n",
      "Requirement already satisfied: numpy in /opt/anaconda3/lib/python3.8/site-packages (from face_recognition) (1.19.2)\n",
      "Requirement already satisfied: dlib>=19.7 in /opt/anaconda3/lib/python3.8/site-packages (from face_recognition) (19.22.0)\n",
      "Requirement already satisfied: face-recognition-models>=0.3.0 in /opt/anaconda3/lib/python3.8/site-packages (from face_recognition) (0.3.0)\n",
      "Requirement already satisfied: Pillow in /opt/anaconda3/lib/python3.8/site-packages (from face_recognition) (8.3.1)\n",
      "Requirement already satisfied: Click>=6.0 in /opt/anaconda3/lib/python3.8/site-packages (from face_recognition) (7.1.2)\n"
     ]
    }
   ],
   "source": [
    "!pip install face_recognition"
   ]
  },
  {
   "cell_type": "markdown",
   "metadata": {
    "id": "rF-BTaHyborv"
   },
   "source": [
    "# **Training Images**"
   ]
  },
  {
   "cell_type": "code",
   "execution_count": 2,
   "metadata": {
    "id": "CjXPiwpeVba3"
   },
   "outputs": [
    {
     "name": "stdout",
     "output_type": "stream",
     "text": [
      "Done learning and creating profiles\n"
     ]
    }
   ],
   "source": [
    "import face_recognition\n",
    "import numpy as np\n",
    "from PIL import Image, ImageDraw\n",
    "from IPython.display import display\n",
    "#from google.colab.patches import cv2_imshow\n",
    "import cv2\n",
    "import os\n",
    "from datetime import datetime\n",
    "\n",
    "\n",
    "face_1 = face_recognition.load_image_file(\"Faces/elonmusk.jpg\")\n",
    "face_1_encoding = face_recognition.face_encodings(face_1)[0]\n",
    "\n",
    "face_2 = face_recognition.load_image_file(\"Faces/emmawatson.jpg\")\n",
    "face_2_encoding = face_recognition.face_encodings(face_2)[0]\n",
    "\n",
    "face_3 = face_recognition.load_image_file(\"Faces/robertdownyjr.jpg\")\n",
    "face_3_encoding = face_recognition.face_encodings(face_3)[0]\n",
    "\n",
    "face_4 = face_recognition.load_image_file(\"Faces/sundarpichai.jpg\")\n",
    "face_4_encoding = face_recognition.face_encodings(face_3)[0]\n",
    "\n",
    "\n",
    "known_face_encodings = [\n",
    "    face_1_encoding,\n",
    "    face_2_encoding,\n",
    "    face_3_encoding,\n",
    "    face_4_encoding,\n",
    "]\n",
    "\n",
    "known_face_names = [\n",
    "    \"Elon Musk\",\n",
    "    \"Emma Watson\",\n",
    "    \"Robert Downy Jr.\",\n",
    "    \"Sundar Pichai\",\n",
    "]\n",
    "\n",
    "print(\"Done learning and creating profiles\")"
   ]
  },
  {
   "cell_type": "markdown",
   "metadata": {
    "id": "1H9QzThobuSw"
   },
   "source": [
    "# **Initializing function to add names to the \"attendance_list.csv\" file**"
   ]
  },
  {
   "cell_type": "code",
   "execution_count": 3,
   "metadata": {
    "id": "GVEbG_BiZC-8"
   },
   "outputs": [],
   "source": [
    "def makeAttendanceEntry(name):\n",
    "    with open('attendance_list.csv','r+') as FILE: #Opening file for reading and writing\n",
    "        allLines = FILE.readlines()  # All rows will be saved in All lines\n",
    "        attendanceList = []\n",
    "        for line in allLines:\n",
    "            entry = line.split(',')\n",
    "            attendanceList.append(entry[0])\n",
    "        #if name not in attendanceList:\n",
    "        now = datetime.now()\n",
    "        dtString = now.strftime('%d/%b/%Y, %H:%M:%S')\n",
    "        FILE.writelines(f'\\n{name},{dtString}')"
   ]
  },
  {
   "cell_type": "markdown",
   "metadata": {
    "id": "FvNxvs5zb42r"
   },
   "source": [
    "# **Performing Face Recognition and Entering Attendance with time-stamp**"
   ]
  },
  {
   "cell_type": "code",
   "execution_count": 4,
   "metadata": {
    "id": "W4VTNtaUVfwm"
   },
   "outputs": [
    {
     "name": "stdout",
     "output_type": "stream",
     "text": [
      "unknown\n"
     ]
    }
   ],
   "source": [
    "file_name = \"Faces/Unknowns/unknown03.jpg\"\n",
    "\n",
    "unknown_image = face_recognition.load_image_file(file_name)\n",
    "unknown_image_to_draw = cv2.imread(file_name)\n",
    "\n",
    "face_locations = face_recognition.face_locations(unknown_image)\n",
    "face_encodings = face_recognition.face_encodings(unknown_image, face_locations)\n",
    "\n",
    "pil_image = Image.fromarray(unknown_image)\n",
    "draw = ImageDraw.Draw(pil_image)\n",
    "\n",
    "for (top, right, bottom, left), face_encoding in zip(face_locations, face_encodings):\n",
    "    # See if the face is a match for the known face(s)\n",
    "    matches = face_recognition.compare_faces(known_face_encodings, face_encoding)\n",
    "\n",
    "    name = \"unknown\"\n",
    "\n",
    "    face_distances = face_recognition.face_distance(known_face_encodings, face_encoding)\n",
    "    best_match_index = np.argmin(face_distances)\n",
    "    if matches[best_match_index]:\n",
    "        name = known_face_names[best_match_index]\n",
    "\n",
    "    # Draw a box around the face using the Pillow module\n",
    "    cv2.rectangle(unknown_image_to_draw,(left, top), (right, bottom), (0,255,0),3 )\n",
    "    draw.rectangle(((left, top), (right, bottom)), outline=(0, 255, 255))\n",
    "    cv2.putText(unknown_image_to_draw,name,(left,top-20), cv2.FONT_HERSHEY_SIMPLEX,1, (0,0,255), 2,cv2.LINE_AA)\n",
    "    print(name)\n",
    "    makeAttendanceEntry(name)\n",
    "\n",
    "# display(pil_image)\n",
    "\n",
    "cv2.imshow(\"image\",unknown_image_to_draw)\n",
    "cv2.waitKey(0)\n",
    "cv2.destroyAllWindows()"
   ]
  },
  {
   "cell_type": "markdown",
   "metadata": {
    "id": "U-iKoT_aXj1P"
   },
   "source": [
    "## **Just Explore Attendance Sheet**"
   ]
  },
  {
   "cell_type": "code",
   "execution_count": 5,
   "metadata": {
    "id": "qw4bTROpWzi3"
   },
   "outputs": [
    {
     "data": {
      "text/html": [
       "<div>\n",
       "<style scoped>\n",
       "    .dataframe tbody tr th:only-of-type {\n",
       "        vertical-align: middle;\n",
       "    }\n",
       "\n",
       "    .dataframe tbody tr th {\n",
       "        vertical-align: top;\n",
       "    }\n",
       "\n",
       "    .dataframe thead th {\n",
       "        text-align: right;\n",
       "    }\n",
       "</style>\n",
       "<table border=\"1\" class=\"dataframe\">\n",
       "  <thead>\n",
       "    <tr style=\"text-align: right;\">\n",
       "      <th></th>\n",
       "      <th>Names</th>\n",
       "      <th>Date</th>\n",
       "      <th>Time</th>\n",
       "    </tr>\n",
       "  </thead>\n",
       "  <tbody>\n",
       "    <tr>\n",
       "      <th>0</th>\n",
       "      <td>Emma Watson</td>\n",
       "      <td>29/Sep/2021</td>\n",
       "      <td>18:08:56</td>\n",
       "    </tr>\n",
       "    <tr>\n",
       "      <th>1</th>\n",
       "      <td>Elon Musk</td>\n",
       "      <td>29/Sep/2021</td>\n",
       "      <td>18:11:37</td>\n",
       "    </tr>\n",
       "    <tr>\n",
       "      <th>2</th>\n",
       "      <td>unknown</td>\n",
       "      <td>29/Sep/2021</td>\n",
       "      <td>18:12:58</td>\n",
       "    </tr>\n",
       "  </tbody>\n",
       "</table>\n",
       "</div>"
      ],
      "text/plain": [
       "         Names         Date       Time\n",
       "0  Emma Watson  29/Sep/2021   18:08:56\n",
       "1    Elon Musk  29/Sep/2021   18:11:37\n",
       "2      unknown  29/Sep/2021   18:12:58"
      ]
     },
     "execution_count": 5,
     "metadata": {},
     "output_type": "execute_result"
    }
   ],
   "source": [
    "import pandas as pd\n",
    "\n",
    "sheet = pd.read_csv(\"attendance_list.csv\", header=None)\n",
    "sheet.columns = [\"Names\", \"Date\", \"Time\"]\n",
    "sheet.head()"
   ]
  },
  {
   "cell_type": "code",
   "execution_count": null,
   "metadata": {},
   "outputs": [],
   "source": []
  },
  {
   "cell_type": "code",
   "execution_count": null,
   "metadata": {},
   "outputs": [],
   "source": []
  }
 ],
 "metadata": {
  "accelerator": "GPU",
  "colab": {
   "name": "27_Basic_Face_Recognition.ipynb",
   "provenance": []
  },
  "kernelspec": {
   "display_name": "Python 3",
   "language": "python",
   "name": "python3"
  },
  "language_info": {
   "codemirror_mode": {
    "name": "ipython",
    "version": 3
   },
   "file_extension": ".py",
   "mimetype": "text/x-python",
   "name": "python",
   "nbconvert_exporter": "python",
   "pygments_lexer": "ipython3",
   "version": "3.8.11"
  }
 },
 "nbformat": 4,
 "nbformat_minor": 1
}
