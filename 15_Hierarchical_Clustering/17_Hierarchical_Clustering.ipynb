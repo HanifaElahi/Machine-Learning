{
  "nbformat": 4,
  "nbformat_minor": 0,
  "metadata": {
    "colab": {
      "name": "17_Hierarchical_Clustering.ipynb",
      "provenance": [],
      "collapsed_sections": []
    },
    "kernelspec": {
      "display_name": "Python 3",
      "language": "python",
      "name": "python3"
    },
    "language_info": {
      "codemirror_mode": {
        "name": "ipython",
        "version": 3
      },
      "file_extension": ".py",
      "mimetype": "text/x-python",
      "name": "python",
      "nbconvert_exporter": "python",
      "pygments_lexer": "ipython3",
      "version": "3.8.8"
    }
  },
  "cells": [
    {
      "cell_type": "markdown",
      "metadata": {
        "id": "OTbnV4K1CV4i"
      },
      "source": [
        "## **Hierarchical Clustering**\n",
        "\n",
        "Hierarchical clustering, also known as hierarchical cluster analysis, is an algorithm that groups similar objects into groups called clusters. The endpoint is a set of clusters, where each cluster is distinct from each other cluster, and the objects within each cluster are broadly similar to each other.\n",
        "\n",
        "**Divisive method\t**\t\n",
        "In divisive or top-down clustering method we assign all of the observations to a single cluster and then partition the cluster to two least similar clusters. Finally, we proceed recursively on each cluster until there is one cluster for each observation. There is evidence that divisive algorithms produce more accurate hierarchies than agglomerative  algorithms in some circumstances but is conceptually more complex.\t\t\n",
        " \t\t\n",
        "**Agglomerative method**\n",
        "\n",
        "In agglomerative or bottom-up clustering method we assign each observation to its own cluster. Then, compute the similarity (e.g., distance) between each of the clusters and join the two most similar clusters. Finally, repeat steps 2 and 3 until there is only a single cluster left.\n",
        "\n",
        "<img src =\"https://46gyn61z4i0t1u1pnq2bbk2e-wpengine.netdna-ssl.com/wp-content/uploads/2018/03/Screen-Shot-2018-03-28-at-11.48.48-am.png\">"
      ]
    },
    {
      "cell_type": "markdown",
      "metadata": {
        "id": "j3F3bpdAWNCO"
      },
      "source": [
        "## **Importing Libraries**"
      ]
    },
    {
      "cell_type": "code",
      "metadata": {
        "id": "CPIMeNgoCjZL",
        "colab": {
          "base_uri": "https://localhost:8080/"
        },
        "outputId": "1975c55b-5763-4cc8-bc1d-b77528538224"
      },
      "source": [
        "import matplotlib.pyplot as plt\n",
        "from scipy.cluster.hierarchy import linkage, dendrogram\n",
        "from sklearn.datasets.samples_generator import make_blobs\n",
        "import numpy as np"
      ],
      "execution_count": 1,
      "outputs": [
        {
          "output_type": "stream",
          "name": "stderr",
          "text": [
            "/usr/local/lib/python3.7/dist-packages/sklearn/utils/deprecation.py:144: FutureWarning: The sklearn.datasets.samples_generator module is  deprecated in version 0.22 and will be removed in version 0.24. The corresponding classes / functions should instead be imported from sklearn.datasets. Anything that cannot be imported from sklearn.datasets is now part of the private API.\n",
            "  warnings.warn(message, FutureWarning)\n"
          ]
        }
      ]
    },
    {
      "cell_type": "markdown",
      "metadata": {
        "id": "4anySMcgqROX"
      },
      "source": [
        "## **Dataset Loading**\n",
        "\n"
      ]
    },
    {
      "cell_type": "code",
      "metadata": {
        "id": "0DI825deAMua"
      },
      "source": [
        "x,y = make_blobs(n_samples=80)"
      ],
      "execution_count": 2,
      "outputs": []
    },
    {
      "cell_type": "code",
      "metadata": {
        "id": "weORdZPqAW62"
      },
      "source": [
        "x1 = x[:,0]\n",
        "x2 = x[:,1]"
      ],
      "execution_count": 3,
      "outputs": []
    },
    {
      "cell_type": "code",
      "metadata": {
        "colab": {
          "base_uri": "https://localhost:8080/",
          "height": 265
        },
        "id": "H2fQIxhZDJa2",
        "outputId": "445ba4f5-d8f2-40eb-9b44-31d119bef461"
      },
      "source": [
        "\n",
        "plt.scatter(x1,x2,s=5)\n",
        "\n",
        "plt.show()"
      ],
      "execution_count": 4,
      "outputs": [
        {
          "output_type": "display_data",
          "data": {
            "image/png": "[encoded data removed]",
            "text/plain": [
              "<Figure size 432x288 with 1 Axes>"
            ]
          },
          "metadata": {
            "needs_background": "light"
          }
        }
      ]
    },
    {
      "cell_type": "markdown",
      "metadata": {
        "id": "3OY0KOqzO7dy"
      },
      "source": [
        "## **Nearest Point Algorithm**\n",
        "\n",
        "<img src =\"https://online.stat.psu.edu/stat555/sites/onlinecourses.science.psu.edu.stat555/files/cluster/distance_matrix_01/index.png\">"
      ]
    },
    {
      "cell_type": "code",
      "metadata": {
        "colab": {
          "base_uri": "https://localhost:8080/"
        },
        "id": "S7fTugJUPG6y",
        "outputId": "be037a53-cd96-4aa8-d34f-ecaa3413bbab"
      },
      "source": [
        "linkage_matrix = linkage(x,\"complete\")\n",
        "print(linkage_matrix)"
      ],
      "execution_count": 5,
      "outputs": [
        {
          "output_type": "stream",
          "name": "stdout",
          "text": [
            "[[2.60000000e+01 7.80000000e+01 5.33273861e-02 2.00000000e+00]\n",
            " [1.70000000e+01 5.10000000e+01 9.55208432e-02 2.00000000e+00]\n",
            " [1.20000000e+01 5.70000000e+01 1.13750278e-01 2.00000000e+00]\n",
            " [6.00000000e+01 6.50000000e+01 1.25179457e-01 2.00000000e+00]\n",
            " [1.80000000e+01 4.90000000e+01 1.25565739e-01 2.00000000e+00]\n",
            " [2.00000000e+01 5.60000000e+01 1.42447597e-01 2.00000000e+00]\n",
            " [1.30000000e+01 5.20000000e+01 1.49652070e-01 2.00000000e+00]\n",
            " [5.80000000e+01 8.00000000e+01 1.70374671e-01 3.00000000e+00]\n",
            " [2.40000000e+01 5.90000000e+01 1.93130103e-01 2.00000000e+00]\n",
            " [0.00000000e+00 7.00000000e+01 2.21431794e-01 2.00000000e+00]\n",
            " [3.70000000e+01 7.30000000e+01 2.26641211e-01 2.00000000e+00]\n",
            " [1.40000000e+01 5.00000000e+01 2.35082968e-01 2.00000000e+00]\n",
            " [6.60000000e+01 8.30000000e+01 2.36654661e-01 3.00000000e+00]\n",
            " [1.60000000e+01 2.10000000e+01 2.55912398e-01 2.00000000e+00]\n",
            " [3.20000000e+01 4.20000000e+01 2.58803578e-01 2.00000000e+00]\n",
            " [1.00000000e+00 8.20000000e+01 2.63171330e-01 3.00000000e+00]\n",
            " [6.00000000e+00 8.50000000e+01 2.66809376e-01 3.00000000e+00]\n",
            " [3.90000000e+01 4.30000000e+01 2.88078674e-01 2.00000000e+00]\n",
            " [3.00000000e+01 4.50000000e+01 3.18287206e-01 2.00000000e+00]\n",
            " [7.20000000e+01 7.40000000e+01 3.23207427e-01 2.00000000e+00]\n",
            " [4.80000000e+01 5.40000000e+01 3.46482426e-01 2.00000000e+00]\n",
            " [2.00000000e+00 5.00000000e+00 3.51907476e-01 2.00000000e+00]\n",
            " [1.10000000e+01 2.20000000e+01 3.64773425e-01 2.00000000e+00]\n",
            " [1.50000000e+01 1.00000000e+02 3.97938669e-01 3.00000000e+00]\n",
            " [6.40000000e+01 8.70000000e+01 4.37687927e-01 4.00000000e+00]\n",
            " [3.50000000e+01 8.90000000e+01 4.59596307e-01 3.00000000e+00]\n",
            " [4.00000000e+00 4.70000000e+01 4.60788176e-01 2.00000000e+00]\n",
            " [4.00000000e+01 6.70000000e+01 4.70238797e-01 2.00000000e+00]\n",
            " [3.80000000e+01 8.60000000e+01 4.71290728e-01 3.00000000e+00]\n",
            " [1.00000000e+01 7.60000000e+01 4.79930489e-01 2.00000000e+00]\n",
            " [7.50000000e+01 7.70000000e+01 5.04236231e-01 2.00000000e+00]\n",
            " [1.90000000e+01 8.40000000e+01 5.54316776e-01 3.00000000e+00]\n",
            " [2.80000000e+01 1.06000000e+02 5.56359043e-01 3.00000000e+00]\n",
            " [5.50000000e+01 9.50000000e+01 5.84648833e-01 4.00000000e+00]\n",
            " [6.10000000e+01 1.08000000e+02 6.10496053e-01 4.00000000e+00]\n",
            " [8.00000000e+00 9.70000000e+01 6.24014252e-01 3.00000000e+00]\n",
            " [4.60000000e+01 9.10000000e+01 6.32205374e-01 3.00000000e+00]\n",
            " [6.90000000e+01 9.20000000e+01 6.54208037e-01 4.00000000e+00]\n",
            " [6.80000000e+01 9.30000000e+01 7.05618030e-01 3.00000000e+00]\n",
            " [8.80000000e+01 9.60000000e+01 7.24210587e-01 5.00000000e+00]\n",
            " [2.50000000e+01 8.10000000e+01 7.36878791e-01 3.00000000e+00]\n",
            " [9.00000000e+01 1.11000000e+02 7.87439873e-01 5.00000000e+00]\n",
            " [4.10000000e+01 1.03000000e+02 7.95768390e-01 4.00000000e+00]\n",
            " [3.10000000e+01 7.90000000e+01 8.33087656e-01 2.00000000e+00]\n",
            " [9.40000000e+01 1.13000000e+02 8.50510015e-01 6.00000000e+00]\n",
            " [6.20000000e+01 1.07000000e+02 8.90977862e-01 3.00000000e+00]\n",
            " [9.80000000e+01 1.05000000e+02 9.09115953e-01 5.00000000e+00]\n",
            " [1.04000000e+02 1.18000000e+02 9.60875392e-01 7.00000000e+00]\n",
            " [3.30000000e+01 3.60000000e+01 1.01852971e+00 2.00000000e+00]\n",
            " [5.30000000e+01 1.12000000e+02 1.05569864e+00 4.00000000e+00]\n",
            " [2.70000000e+01 7.10000000e+01 1.06149494e+00 2.00000000e+00]\n",
            " [4.40000000e+01 1.02000000e+02 1.06652726e+00 3.00000000e+00]\n",
            " [2.30000000e+01 1.17000000e+02 1.13088417e+00 5.00000000e+00]\n",
            " [6.30000000e+01 1.14000000e+02 1.24119406e+00 5.00000000e+00]\n",
            " [1.01000000e+02 1.26000000e+02 1.39324284e+00 7.00000000e+00]\n",
            " [1.21000000e+02 1.31000000e+02 1.40935676e+00 8.00000000e+00]\n",
            " [9.90000000e+01 1.27000000e+02 1.43318780e+00 9.00000000e+00]\n",
            " [3.00000000e+00 1.16000000e+02 1.47980370e+00 4.00000000e+00]\n",
            " [3.40000000e+01 1.25000000e+02 1.48351984e+00 4.00000000e+00]\n",
            " [7.00000000e+00 1.20000000e+02 1.48698029e+00 4.00000000e+00]\n",
            " [1.09000000e+02 1.23000000e+02 1.74263245e+00 4.00000000e+00]\n",
            " [2.90000000e+01 1.28000000e+02 1.76432824e+00 3.00000000e+00]\n",
            " [1.15000000e+02 1.33000000e+02 1.82156602e+00 8.00000000e+00]\n",
            " [1.19000000e+02 1.32000000e+02 2.02940020e+00 1.00000000e+01]\n",
            " [1.29000000e+02 1.34000000e+02 2.11765339e+00 1.10000000e+01]\n",
            " [1.10000000e+02 1.24000000e+02 2.37995792e+00 8.00000000e+00]\n",
            " [1.36000000e+02 1.42000000e+02 2.42902566e+00 1.70000000e+01]\n",
            " [1.35000000e+02 1.37000000e+02 2.65939275e+00 1.20000000e+01]\n",
            " [9.00000000e+00 1.40000000e+02 2.66491522e+00 5.00000000e+00]\n",
            " [1.30000000e+02 1.38000000e+02 2.95071156e+00 6.00000000e+00]\n",
            " [1.22000000e+02 1.43000000e+02 2.98910776e+00 1.40000000e+01]\n",
            " [1.39000000e+02 1.47000000e+02 3.20218634e+00 1.60000000e+01]\n",
            " [1.44000000e+02 1.50000000e+02 3.46344333e+00 2.50000000e+01]\n",
            " [1.41000000e+02 1.45000000e+02 4.11521323e+00 1.10000000e+01]\n",
            " [1.46000000e+02 1.49000000e+02 4.16660611e+00 2.30000000e+01]\n",
            " [1.51000000e+02 1.53000000e+02 4.30535755e+00 2.70000000e+01]\n",
            " [1.48000000e+02 1.52000000e+02 5.36027058e+00 3.00000000e+01]\n",
            " [1.54000000e+02 1.56000000e+02 6.76713020e+00 5.30000000e+01]\n",
            " [1.55000000e+02 1.57000000e+02 1.56629373e+01 8.00000000e+01]]\n"
          ]
        }
      ]
    },
    {
      "cell_type": "markdown",
      "metadata": {
        "id": "EztAqL_GPNEM"
      },
      "source": [
        "## **Pruning Tree Like Structure with Tuncade Mode**"
      ]
    },
    {
      "cell_type": "code",
      "metadata": {
        "colab": {
          "base_uri": "https://localhost:8080/",
          "height": 279
        },
        "id": "48lpPyFzPNZo",
        "outputId": "a7771bf0-bb22-4e24-b567-df9d6543f7f7"
      },
      "source": [
        "dendrogram = dendrogram(linkage_matrix)\n",
        "plt.title(\"Hierarchical Clustering\")\n",
        "plt.show()"
      ],
      "execution_count": 6,
      "outputs": [
        {
          "output_type": "display_data",
          "data": {
            "image/png": "[encoded data removed]",
            "text/plain": [
              "<Figure size 432x288 with 1 Axes>"
            ]
          },
          "metadata": {
            "needs_background": "light"
          }
        }
      ]
    },
    {
      "cell_type": "code",
      "metadata": {
        "id": "AnuJt8XvDv3q"
      },
      "source": [
        ""
      ],
      "execution_count": 6,
      "outputs": []
    }
  ]
}