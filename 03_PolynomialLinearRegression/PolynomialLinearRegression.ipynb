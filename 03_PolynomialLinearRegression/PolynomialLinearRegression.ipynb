{
 "cells": [
  {
   "cell_type": "markdown",
   "metadata": {
    "id": "zZLpbEU0084X"
   },
   "source": [
    "# ***Polynomial Regression***\n",
    "\n",
    "---\n",
    "\n"
   ]
  },
  {
   "cell_type": "markdown",
   "metadata": {
    "id": "F98Kuv-31N1i"
   },
   "source": [
    "***Polynomial Regression*** is a form of linear regression in which the relationship between the independent variable x and dependent variable y is modeled as an nth degree polynomial. Polynomial regression fits a nonlinear relationship between the value of x and the corresponding conditional mean of y.\n",
    "\n",
    "\n",
    "![68747470733a2f2f7374617469632e6a61766174706f696e742e636f6d2f7475746f7269616c2f6d616368696e652d6c6561726e696e672f696d616765732f6d616368696e652d6c6561726e696e672d706f6c796e6f6d69616c2d72656772657373696f6e2e706e67.png](data:image/png;base64,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)\n"
   ]
  },
  {
   "cell_type": "markdown",
   "metadata": {
    "id": "UmVLLltB2D3w"
   },
   "source": [
    "***Polynomial Regression***"
   ]
  },
  {
   "cell_type": "code",
   "execution_count": 12,
   "metadata": {
    "id": "SKV060kV2ATT"
   },
   "outputs": [],
   "source": [
    "#importing libraries\n",
    "import numpy as np\n",
    "import pandas as pd\n",
    "import matplotlib.pyplot as plt\n",
    "from sklearn.linear_model import LinearRegression\n",
    "from sklearn.metrics import mean_squared_error\n",
    "from sklearn.preprocessing import PolynomialFeatures\n",
    "from sklearn.model_selection import train_test_split\n",
    "import seaborn as sns\n",
    "import math\n",
    "\n",
    "import warnings\n",
    "warnings.filterwarnings('ignore')"
   ]
  },
  {
   "cell_type": "markdown",
   "metadata": {
    "id": "Rm9xuWj22WmX"
   },
   "source": [
    "***Data Framing***\n",
    "\n",
    "---\n",
    "\n",
    "Read .csv data into a DataFrame"
   ]
  },
  {
   "cell_type": "code",
   "execution_count": 13,
   "metadata": {
    "colab": {
     "base_uri": "https://localhost:8080/",
     "height": 259,
     "resources": {
      "http://localhost:8080/nbextensions/google.colab/files.js": {
       "data": "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",
       "headers": [
        [
         "content-type",
         "application/javascript"
        ]
       ],
       "ok": true,
       "status": 200,
       "status_text": ""
      }
     }
    },
    "id": "M04EgnJB2fOG",
    "outputId": "2eb36cdb-778e-4c67-ab2c-3c4fae72c814"
   },
   "outputs": [
    {
     "data": {
      "text/html": [
       "<div>\n",
       "<style scoped>\n",
       "    .dataframe tbody tr th:only-of-type {\n",
       "        vertical-align: middle;\n",
       "    }\n",
       "\n",
       "    .dataframe tbody tr th {\n",
       "        vertical-align: top;\n",
       "    }\n",
       "\n",
       "    .dataframe thead th {\n",
       "        text-align: right;\n",
       "    }\n",
       "</style>\n",
       "<table border=\"1\" class=\"dataframe\">\n",
       "  <thead>\n",
       "    <tr style=\"text-align: right;\">\n",
       "      <th></th>\n",
       "      <th>Age</th>\n",
       "      <th>Drugs_Perf</th>\n",
       "    </tr>\n",
       "  </thead>\n",
       "  <tbody>\n",
       "    <tr>\n",
       "      <th>0</th>\n",
       "      <td>1</td>\n",
       "      <td>1.166667</td>\n",
       "    </tr>\n",
       "    <tr>\n",
       "      <th>1</th>\n",
       "      <td>2</td>\n",
       "      <td>1.833333</td>\n",
       "    </tr>\n",
       "    <tr>\n",
       "      <th>2</th>\n",
       "      <td>3</td>\n",
       "      <td>2.833333</td>\n",
       "    </tr>\n",
       "    <tr>\n",
       "      <th>3</th>\n",
       "      <td>4</td>\n",
       "      <td>4.166667</td>\n",
       "    </tr>\n",
       "    <tr>\n",
       "      <th>4</th>\n",
       "      <td>5</td>\n",
       "      <td>5.833333</td>\n",
       "    </tr>\n",
       "  </tbody>\n",
       "</table>\n",
       "</div>"
      ],
      "text/plain": [
       "   Age  Drugs_Perf\n",
       "0    1    1.166667\n",
       "1    2    1.833333\n",
       "2    3    2.833333\n",
       "3    4    4.166667\n",
       "4    5    5.833333"
      ]
     },
     "execution_count": 13,
     "metadata": {},
     "output_type": "execute_result"
    }
   ],
   "source": [
    "dataset = pd.read_csv(\"Drugs_Performance.csv\")\n",
    "dataset.head()"
   ]
  },
  {
   "cell_type": "markdown",
   "metadata": {},
   "source": [
    "**Data Pre-Processing**"
   ]
  },
  {
   "cell_type": "code",
   "execution_count": 14,
   "metadata": {},
   "outputs": [
    {
     "data": {
      "text/plain": [
       "(84, 2)"
      ]
     },
     "execution_count": 14,
     "metadata": {},
     "output_type": "execute_result"
    }
   ],
   "source": [
    "dataset.shape"
   ]
  },
  {
   "cell_type": "code",
   "execution_count": 15,
   "metadata": {},
   "outputs": [
    {
     "data": {
      "text/plain": [
       "Age           0\n",
       "Drugs_Perf    0\n",
       "dtype: int64"
      ]
     },
     "execution_count": 15,
     "metadata": {},
     "output_type": "execute_result"
    }
   ],
   "source": [
    "#checking for missing values\n",
    "dataset.isna().sum()"
   ]
  },
  {
   "cell_type": "code",
   "execution_count": 16,
   "metadata": {},
   "outputs": [
    {
     "data": {
      "text/plain": [
       "False"
      ]
     },
     "execution_count": 16,
     "metadata": {},
     "output_type": "execute_result"
    }
   ],
   "source": [
    "#checking for duplicate rows\n",
    "dataset.duplicated().any()"
   ]
  },
  {
   "cell_type": "code",
   "execution_count": 17,
   "metadata": {},
   "outputs": [
    {
     "data": {
      "image/png": "[encoded data removed]",
      "text/plain": [
       "<Figure size 360x576 with 2 Axes>"
      ]
     },
     "metadata": {
      "needs_background": "light"
     },
     "output_type": "display_data"
    }
   ],
   "source": [
    "#checking for outliers\n",
    "fig, axs = plt.subplots(2, figsize = (5,8))\n",
    "plt1 = sns.boxplot(dataset['Age'], ax = axs[0])\n",
    "plt2 = sns.boxplot(dataset['Drugs_Perf'], ax = axs[1])\n",
    "plt.tight_layout()"
   ]
  },
  {
   "cell_type": "markdown",
   "metadata": {},
   "source": [
    "**EDA**"
   ]
  },
  {
   "cell_type": "code",
   "execution_count": 18,
   "metadata": {},
   "outputs": [
    {
     "data": {
      "image/png": "[encoded data removed]",
      "text/plain": [
       "<Figure size 432x288 with 1 Axes>"
      ]
     },
     "metadata": {
      "needs_background": "light"
     },
     "output_type": "display_data"
    }
   ],
   "source": [
    "sns.distplot(dataset['Drugs_Perf']);"
   ]
  },
  {
   "cell_type": "markdown",
   "metadata": {},
   "source": [
    "**Setting the value for X and y**"
   ]
  },
  {
   "cell_type": "code",
   "execution_count": 20,
   "metadata": {
    "colab": {
     "base_uri": "https://localhost:8080/"
    },
    "id": "DFAuARCK2ox_",
    "outputId": "a85ed059-edfa-4422-e7c1-9321534bf1e9"
   },
   "outputs": [],
   "source": [
    "X = dataset[[\"Age\"]].values\n",
    "y = dataset[[\"Drugs_Perf\"]].values"
   ]
  },
  {
   "cell_type": "code",
   "execution_count": 21,
   "metadata": {
    "colab": {
     "base_uri": "https://localhost:8080/",
     "height": 279
    },
    "id": "kqScECNG2tQ9",
    "outputId": "275a93d0-88b3-4948-a231-62096b343687"
   },
   "outputs": [
    {
     "data": {
      "image/png": "[encoded data removed]",
      "text/plain": [
       "<Figure size 432x288 with 1 Axes>"
      ]
     },
     "metadata": {
      "needs_background": "light"
     },
     "output_type": "display_data"
    }
   ],
   "source": [
    "plt.plot(X,y)\n",
    "plt.xlabel(\"Age\")\n",
    "plt.ylabel(\"Drugs_Perf\")\n",
    "plt.show()"
   ]
  },
  {
   "cell_type": "markdown",
   "metadata": {
    "id": "T7LXjeYs2yqi"
   },
   "source": [
    "***Splitting Data: Training and Test Set***"
   ]
  },
  {
   "cell_type": "code",
   "execution_count": 22,
   "metadata": {
    "id": "fCu8gf0o21BJ"
   },
   "outputs": [],
   "source": [
    "X_train, X_test, Y_train, Y_test = train_test_split(X,y, test_size=0.2)"
   ]
  },
  {
   "cell_type": "markdown",
   "metadata": {
    "id": "hScjk5DR24-Y"
   },
   "source": [
    "***Preprocessing: Polynomial Features***\n",
    "\n",
    "---\n",
    "\n",
    "Prrocessing or optimizing our data for nth ploynomial features"
   ]
  },
  {
   "cell_type": "code",
   "execution_count": 23,
   "metadata": {
    "colab": {
     "base_uri": "https://localhost:8080/"
    },
    "id": "f7FZgGhO3AgT",
    "outputId": "e19bdaf8-aa1c-4670-9ce8-ee0ce0453f5c"
   },
   "outputs": [
    {
     "data": {
      "text/plain": [
       "PolynomialFeatures()"
      ]
     },
     "execution_count": 23,
     "metadata": {},
     "output_type": "execute_result"
    }
   ],
   "source": [
    "poly = PolynomialFeatures(degree = 2)\n",
    "X_poly = poly.fit_transform(X_train)\n",
    "poly.fit(X_poly, Y_train)"
   ]
  },
  {
   "cell_type": "markdown",
   "metadata": {
    "id": "Q8ywUyS-3FTQ"
   },
   "source": [
    "***Training the Model***\n",
    "\n",
    "---\n",
    "\n",
    "We are using Linear regression model as imported from sklearn library and then it's being trained on x and y (any 2 major axis of datasets)"
   ]
  },
  {
   "cell_type": "code",
   "execution_count": 24,
   "metadata": {
    "colab": {
     "base_uri": "https://localhost:8080/"
    },
    "id": "xEjkka6F3NkM",
    "outputId": "a4db0e6c-1211-419d-8d3c-20df1c8d9a79"
   },
   "outputs": [
    {
     "data": {
      "text/plain": [
       "LinearRegression()"
      ]
     },
     "execution_count": 24,
     "metadata": {},
     "output_type": "execute_result"
    }
   ],
   "source": [
    "model = LinearRegression()\n",
    "model.fit(X_poly,Y_train)"
   ]
  },
  {
   "cell_type": "markdown",
   "metadata": {
    "id": "MifTLesz3MId"
   },
   "source": [
    "***Visualization***\n",
    "\n",
    "---\n",
    "Visualize the dataset with the fit model using matplotlib.\n"
   ]
  },
  {
   "cell_type": "code",
   "execution_count": 25,
   "metadata": {
    "colab": {
     "base_uri": "https://localhost:8080/",
     "height": 312
    },
    "id": "aDD7og0w3den",
    "outputId": "879b9699-4365-4ab0-d10e-75646e976fd1"
   },
   "outputs": [
    {
     "data": {
      "text/plain": [
       "Text(0, 0.5, 'Drugs Performance')"
      ]
     },
     "execution_count": 25,
     "metadata": {},
     "output_type": "execute_result"
    },
    {
     "data": {
      "image/png": "[encoded data removed]",
      "text/plain": [
       "<Figure size 432x288 with 1 Axes>"
      ]
     },
     "metadata": {
      "needs_background": "light"
     },
     "output_type": "display_data"
    }
   ],
   "source": [
    "plt.scatter(X,y, color = 'orange')\n",
    "plt.plot(X,model.predict(poly.fit_transform(X)), color = 'black')\n",
    "plt.title('Polynomial Regression')\n",
    "plt.xlabel('Age')\n",
    "plt.ylabel('Drugs Performance')"
   ]
  },
  {
   "cell_type": "markdown",
   "metadata": {
    "id": "GYateZVy2lzQ"
   },
   "source": [
    "***Prediction***\n"
   ]
  },
  {
   "cell_type": "code",
   "execution_count": 26,
   "metadata": {
    "colab": {
     "base_uri": "https://localhost:8080/"
    },
    "id": "L4g-I3483tWO",
    "outputId": "e33114fc-99be-49a7-89b8-64a3d04ca197"
   },
   "outputs": [
    {
     "name": "stdout",
     "output_type": "stream",
     "text": [
      "Prediction by the model:\t [[  57.83333334]\n",
      " [  19.16666666]\n",
      " [ 176.83333334]\n",
      " [ 166.16666668]\n",
      " [ 222.83333334]\n",
      " [ 155.83333334]\n",
      " [ 495.83333332]\n",
      " [ 651.83333329]\n",
      " [ 425.83333333]\n",
      " [1054.16666656]\n",
      " [ 235.16666668]\n",
      " [ 610.8333333 ]\n",
      " [   1.16666664]\n",
      " [ 199.16666668]\n",
      " [1162.83333321]\n",
      " [ 409.16666666]\n",
      " [ 532.83333331]]\n"
     ]
    }
   ],
   "source": [
    "\n",
    "print('Prediction by the model:\\t', model.predict(poly.fit_transform(X_test)))"
   ]
  },
  {
   "cell_type": "code",
   "execution_count": null,
   "metadata": {},
   "outputs": [],
   "source": []
  }
 ],
 "metadata": {
  "colab": {
   "collapsed_sections": [],
   "name": "Polynomial Regression(Example 01).ipynb",
   "provenance": []
  },
  "kernelspec": {
   "display_name": "Python 3",
   "language": "python",
   "name": "python3"
  },
  "language_info": {
   "codemirror_mode": {
    "name": "ipython",
    "version": 3
   },
   "file_extension": ".py",
   "mimetype": "text/x-python",
   "name": "python",
   "nbconvert_exporter": "python",
   "pygments_lexer": "ipython3",
   "version": "3.8.8"
  }
 },
 "nbformat": 4,
 "nbformat_minor": 1
}
